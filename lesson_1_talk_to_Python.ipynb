{
  "nbformat": 4,
  "nbformat_minor": 0,
  "metadata": {
    "colab": {
      "name": "lesson_1_talk_to_Python.ipynb",
      "provenance": [],
      "collapsed_sections": [],
      "include_colab_link": true
    },
    "kernelspec": {
      "name": "python3",
      "display_name": "Python 3"
    }
  },
  "cells": [
    {
      "cell_type": "markdown",
      "metadata": {
        "id": "view-in-github",
        "colab_type": "text"
      },
      "source": [
        "<a href=\"https://colab.research.google.com/github/abuobayda/Intro_to_python/blob/master/lesson_1_talk_to_Python.ipynb\" target=\"_parent\"><img src=\"https://colab.research.google.com/assets/colab-badge.svg\" alt=\"Open In Colab\"/></a>"
      ]
    },
    {
      "cell_type": "markdown",
      "metadata": {
        "id": "7_kI3rP5BhoW",
        "colab_type": "text"
      },
      "source": [
        "## IPython Notebook"
      ]
    },
    {
      "cell_type": "markdown",
      "metadata": {
        "id": "aPZLqLILXtdN",
        "colab_type": "text"
      },
      "source": [
        "# Hello, Python!\n",
        "\n",
        "Python was named for the British comedy troupe [Monty Python](https://en.wikipedia.org/wiki/Monty_Python)."
      ]
    },
    {
      "cell_type": "markdown",
      "metadata": {
        "id": "0DAabjDJNrFB",
        "colab_type": "text"
      },
      "source": [
        "\n",
        "\n",
        "```\n",
        "# This is formatted as code\n",
        "```\n",
        "\n",
        "### Let's talk to python\n"
      ]
    },
    {
      "cell_type": "markdown",
      "metadata": {
        "id": "-5skSHHsFMDU",
        "colab_type": "text"
      },
      "source": [
        "**Double click** to edit the cell in the Jupyter Notebook"
      ]
    },
    {
      "cell_type": "markdown",
      "metadata": {
        "id": "ZXzOeSjEDH9K",
        "colab_type": "text"
      },
      "source": [
        "**Shift + Enter** to run the cell in Jupyter Notebook Environment"
      ]
    },
    {
      "cell_type": "code",
      "metadata": {
        "id": "m_FpOcdfN4LP",
        "colab_type": "code",
        "outputId": "f09537b7-6681-4d3f-ff32-be24cba4490e",
        "colab": {
          "base_uri": "https://localhost:8080/",
          "height": 34
        }
      },
      "source": [
        "How are you?"
      ],
      "execution_count": 0,
      "outputs": [
        {
          "output_type": "stream",
          "text": [
            "Object `you` not found.\n"
          ],
          "name": "stdout"
        }
      ]
    },
    {
      "cell_type": "code",
      "metadata": {
        "id": "GZLEyEg7N68i",
        "colab_type": "code",
        "outputId": "f62f5a2b-cf02-4a78-b0e6-1dce24baa23e",
        "colab": {
          "base_uri": "https://localhost:8080/",
          "height": 164
        }
      },
      "source": [
        "hello"
      ],
      "execution_count": 0,
      "outputs": [
        {
          "output_type": "error",
          "ename": "NameError",
          "evalue": "ignored",
          "traceback": [
            "\u001b[0;31m\u001b[0m",
            "\u001b[0;31mNameError\u001b[0mTraceback (most recent call last)",
            "\u001b[0;32m<ipython-input-2-f572d396fae9>\u001b[0m in \u001b[0;36m<module>\u001b[0;34m()\u001b[0m\n\u001b[0;32m----> 1\u001b[0;31m \u001b[0mhello\u001b[0m\u001b[0;34m\u001b[0m\u001b[0;34m\u001b[0m\u001b[0m\n\u001b[0m",
            "\u001b[0;31mNameError\u001b[0m: name 'hello' is not defined"
          ]
        }
      ]
    },
    {
      "cell_type": "markdown",
      "metadata": {
        "id": "rnUfpUmhn7Dg",
        "colab_type": "text"
      },
      "source": [
        "## Reserved Words\n",
        "\n",
        "You can not use reserved words as variable names / identifiers\n",
        "\n",
        "[Built-in Function](https://docs.python.org/3/library/functions.html)\n"
      ]
    },
    {
      "cell_type": "code",
      "metadata": {
        "id": "Cx3lVXNnoUux",
        "colab_type": "code",
        "outputId": "4d3c7c83-176d-4587-842f-dd7ecf2453e5",
        "colab": {
          "base_uri": "https://localhost:8080/",
          "height": 34
        }
      },
      "source": [
        "abs(-10)"
      ],
      "execution_count": 0,
      "outputs": [
        {
          "output_type": "execute_result",
          "data": {
            "text/plain": [
              "10"
            ]
          },
          "metadata": {
            "tags": []
          },
          "execution_count": 7
        }
      ]
    },
    {
      "cell_type": "markdown",
      "metadata": {
        "id": "QC7-O6EopTgr",
        "colab_type": "text"
      },
      "source": [
        "## Sentence Or Line"
      ]
    },
    {
      "cell_type": "markdown",
      "metadata": {
        "id": "jjgefmQEpcYD",
        "colab_type": "text"
      },
      "source": [
        "Assignment Statement"
      ]
    },
    {
      "cell_type": "code",
      "metadata": {
        "id": "ALhuGegPpYGO",
        "colab_type": "code",
        "colab": {}
      },
      "source": [
        "x = 5 "
      ],
      "execution_count": 0,
      "outputs": []
    },
    {
      "cell_type": "markdown",
      "metadata": {
        "id": "SAnsy-SWpmw7",
        "colab_type": "text"
      },
      "source": [
        "Assignment with expression"
      ]
    },
    {
      "cell_type": "code",
      "metadata": {
        "id": "j3xFTofhp0zt",
        "colab_type": "code",
        "colab": {}
      },
      "source": [
        "x = x + 3"
      ],
      "execution_count": 0,
      "outputs": []
    },
    {
      "cell_type": "markdown",
      "metadata": {
        "id": "bV5ZABjDp3L8",
        "colab_type": "text"
      },
      "source": [
        "Print the statement"
      ]
    },
    {
      "cell_type": "code",
      "metadata": {
        "id": "ZAuO_0jkp7KJ",
        "colab_type": "code",
        "outputId": "8cfc1172-8ab2-43d9-9871-aa5b5eeb119f",
        "colab": {
          "base_uri": "https://localhost:8080/",
          "height": 34
        }
      },
      "source": [
        "print(x)"
      ],
      "execution_count": 0,
      "outputs": [
        {
          "output_type": "stream",
          "text": [
            "8\n"
          ],
          "name": "stdout"
        }
      ]
    },
    {
      "cell_type": "markdown",
      "metadata": {
        "id": "aIUgcM6pp-Rh",
        "colab_type": "text"
      },
      "source": [
        "x --> variable\n",
        "\n",
        "=/+ --> operators\n",
        "\n",
        "5/3 --> constand\n",
        "\n",
        "print --> Reserved statment"
      ]
    },
    {
      "cell_type": "markdown",
      "metadata": {
        "id": "MfJWMeM1qZrq",
        "colab_type": "text"
      },
      "source": [
        "## Python Program"
      ]
    },
    {
      "cell_type": "markdown",
      "metadata": {
        "id": "VhvCwNucqdl2",
        "colab_type": "text"
      },
      "source": [
        "\n",
        "*   Like a recipe or installation instructions, a program is a sequence of steps to be done in order \n",
        "*   Some steps are conditional - they may be skipped\n",
        "*   Sometimes a step or group of steps are to be repeated\n",
        "*   Sometimes we store a set of steps to be used over and over as needed several places throughout the program\n",
        "\n",
        "\n",
        "\n",
        "\n",
        "  "
      ]
    },
    {
      "cell_type": "code",
      "metadata": {
        "id": "jUORImP5rGWM",
        "colab_type": "code",
        "outputId": "36e59acb-4679-4233-cbf1-a57205fb1e94",
        "colab": {
          "base_uri": "https://localhost:8080/",
          "height": 51
        }
      },
      "source": [
        "# Sequential Steps\n",
        "x = 2\n",
        "print(x)\n",
        "x = x + 3 \n",
        "print(x)"
      ],
      "execution_count": 0,
      "outputs": [
        {
          "output_type": "stream",
          "text": [
            "2\n",
            "5\n"
          ],
          "name": "stdout"
        }
      ]
    },
    {
      "cell_type": "code",
      "metadata": {
        "id": "P4A6bCWyrPSW",
        "colab_type": "code",
        "outputId": "fbffa53a-4f4c-4436-d44f-231c3ce64ba8",
        "colab": {
          "base_uri": "https://localhost:8080/",
          "height": 51
        }
      },
      "source": [
        "# Conditional Steps\n",
        "x = 2\n",
        "if x < 8:\n",
        "  print('Smaller')\n",
        "if x > 30:\n",
        "  print('bigger')\n",
        "print('Finish')"
      ],
      "execution_count": 0,
      "outputs": [
        {
          "output_type": "stream",
          "text": [
            "Smaller\n",
            "Finish\n"
          ],
          "name": "stdout"
        }
      ]
    },
    {
      "cell_type": "code",
      "metadata": {
        "id": "mfnpXnI-righ",
        "colab_type": "code",
        "outputId": "c6b11275-c1b1-4467-9456-555bd7f19ee8",
        "colab": {
          "base_uri": "https://localhost:8080/",
          "height": 119
        }
      },
      "source": [
        "# Repeated Steps\n",
        "n = 5\n",
        "while n > 0:\n",
        "  print(n)\n",
        "  n = n -1\n",
        "print(\"Blast Off\")"
      ],
      "execution_count": 0,
      "outputs": [
        {
          "output_type": "stream",
          "text": [
            "5\n",
            "4\n",
            "3\n",
            "2\n",
            "1\n",
            "Blast Off\n"
          ],
          "name": "stdout"
        }
      ]
    },
    {
      "cell_type": "markdown",
      "metadata": {
        "id": "uC5kEF_4XtdQ",
        "colab_type": "text"
      },
      "source": [
        "# Variables, Expressions, and Statements\n",
        "## Constants\n",
        "constants are fixed values such as numbers, letters and strings (because their value does not change)"
      ]
    },
    {
      "cell_type": "code",
      "metadata": {
        "id": "OoWGitScsfo2",
        "colab_type": "code",
        "outputId": "79c5d806-ebb3-41b3-cf98-22caf0158ea2",
        "colab": {
          "base_uri": "https://localhost:8080/",
          "height": 34
        }
      },
      "source": [
        "print(123)"
      ],
      "execution_count": 0,
      "outputs": [
        {
          "output_type": "stream",
          "text": [
            "123\n"
          ],
          "name": "stdout"
        }
      ]
    },
    {
      "cell_type": "code",
      "metadata": {
        "id": "Y5ulxXZdsiJn",
        "colab_type": "code",
        "outputId": "c6a6a2fc-b3d8-4f4e-bd70-ac22b8a1fa8c",
        "colab": {
          "base_uri": "https://localhost:8080/",
          "height": 34
        }
      },
      "source": [
        "print(98.4)"
      ],
      "execution_count": 0,
      "outputs": [
        {
          "output_type": "stream",
          "text": [
            "98.4\n"
          ],
          "name": "stdout"
        }
      ]
    },
    {
      "cell_type": "code",
      "metadata": {
        "id": "HvWfYIebskvP",
        "colab_type": "code",
        "outputId": "923e3566-1b24-4a10-d9e7-3327b6398668",
        "colab": {
          "base_uri": "https://localhost:8080/",
          "height": 34
        }
      },
      "source": [
        "print(\"Hello Python\")"
      ],
      "execution_count": 0,
      "outputs": [
        {
          "output_type": "stream",
          "text": [
            "Hello Python\n"
          ],
          "name": "stdout"
        }
      ]
    },
    {
      "cell_type": "markdown",
      "metadata": {
        "id": "rURuPLI-sp2A",
        "colab_type": "text"
      },
      "source": [
        "## Variables\n",
        "A **variable** is a named place in the memory where a programmer can store data and later retrieve the data using the **variable** “name”\n",
        "\n",
        "\n",
        "*   You get to choose the variable name.\n",
        "*   You can change the contents of a variable.\n",
        "\n"
      ]
    },
    {
      "cell_type": "code",
      "metadata": {
        "id": "lWwMDUE1tXNq",
        "colab_type": "code",
        "colab": {}
      },
      "source": [
        "x = 14.5\n",
        "y = 14\n",
        "# x and Y are the variables name"
      ],
      "execution_count": 0,
      "outputs": []
    },
    {
      "cell_type": "code",
      "metadata": {
        "id": "1ahFDfJotmiI",
        "colab_type": "code",
        "outputId": "116536ef-bdf0-4c18-ad17-e19f29c3656e",
        "colab": {
          "base_uri": "https://localhost:8080/",
          "height": 51
        }
      },
      "source": [
        "print(x)\n",
        "print(y)"
      ],
      "execution_count": 0,
      "outputs": [
        {
          "output_type": "stream",
          "text": [
            "14.5\n",
            "14\n"
          ],
          "name": "stdout"
        }
      ]
    },
    {
      "cell_type": "code",
      "metadata": {
        "id": "UhzVK8-2tiJQ",
        "colab_type": "code",
        "outputId": "bfeb4360-2668-4c82-e0d5-e750d96ac2b3",
        "colab": {
          "base_uri": "https://localhost:8080/",
          "height": 34
        }
      },
      "source": [
        "# change the value of x to be 120\n",
        "x = 120\n",
        "print(x)"
      ],
      "execution_count": 0,
      "outputs": [
        {
          "output_type": "stream",
          "text": [
            "120\n"
          ],
          "name": "stdout"
        }
      ]
    },
    {
      "cell_type": "markdown",
      "metadata": {
        "id": "Q2e2gBbIt_EJ",
        "colab_type": "text"
      },
      "source": [
        "### Python variable Name Rules\n",
        "* must start with a letter or the underscore character.\n",
        "* cannot start with a number\n",
        "* can only contain alpha-numeric characters and underscores (A-z, 0-9, and _ )\n",
        "* case-sensitive (age, Age and AGE are three different variables)\n",
        "* You can not use reserved words as variable names."
      ]
    },
    {
      "cell_type": "code",
      "metadata": {
        "id": "-5fCry2_ucrJ",
        "colab_type": "code",
        "outputId": "8db4a584-6a84-4c40-b73e-2437a680d475",
        "colab": {
          "base_uri": "https://localhost:8080/",
          "height": 34
        }
      },
      "source": [
        "food = 'rice'\n",
        "print(food)"
      ],
      "execution_count": 0,
      "outputs": [
        {
          "output_type": "stream",
          "text": [
            "rice\n"
          ],
          "name": "stdout"
        }
      ]
    },
    {
      "cell_type": "code",
      "metadata": {
        "id": "JdSzv-iOumbW",
        "colab_type": "code",
        "outputId": "889af930-667f-40db-8597-79a58bed8980",
        "colab": {
          "base_uri": "https://localhost:8080/",
          "height": 164
        }
      },
      "source": [
        "print(Food)"
      ],
      "execution_count": 0,
      "outputs": [
        {
          "output_type": "error",
          "ename": "NameError",
          "evalue": "ignored",
          "traceback": [
            "\u001b[0;31m\u001b[0m",
            "\u001b[0;31mNameError\u001b[0mTraceback (most recent call last)",
            "\u001b[0;32m<ipython-input-25-0c5b4013a3c0>\u001b[0m in \u001b[0;36m<module>\u001b[0;34m()\u001b[0m\n\u001b[0;32m----> 1\u001b[0;31m \u001b[0;32mprint\u001b[0m\u001b[0;34m(\u001b[0m\u001b[0mFood\u001b[0m\u001b[0;34m)\u001b[0m\u001b[0;34m\u001b[0m\u001b[0;34m\u001b[0m\u001b[0m\n\u001b[0m",
            "\u001b[0;31mNameError\u001b[0m: name 'Food' is not defined"
          ]
        }
      ]
    },
    {
      "cell_type": "code",
      "metadata": {
        "id": "-MgeyXsgt8oe",
        "colab_type": "code",
        "outputId": "faae72b1-30d3-4b7b-ec2d-3d6fd9724c00",
        "colab": {
          "base_uri": "https://localhost:8080/",
          "height": 34
        }
      },
      "source": [
        "_speed = 35\n",
        "print(_speed)"
      ],
      "execution_count": 0,
      "outputs": [
        {
          "output_type": "stream",
          "text": [
            "35\n"
          ],
          "name": "stdout"
        }
      ]
    },
    {
      "cell_type": "code",
      "metadata": {
        "id": "o_Frt761uhNw",
        "colab_type": "code",
        "outputId": "eeb3bc97-7448-49f1-b794-591b85a3ae40",
        "colab": {
          "base_uri": "https://localhost:8080/",
          "height": 130
        }
      },
      "source": [
        "1_x = 5"
      ],
      "execution_count": 0,
      "outputs": [
        {
          "output_type": "error",
          "ename": "SyntaxError",
          "evalue": "ignored",
          "traceback": [
            "\u001b[0;36m  File \u001b[0;32m\"<ipython-input-24-ad599f5076c5>\"\u001b[0;36m, line \u001b[0;32m1\u001b[0m\n\u001b[0;31m    1_x = 5\u001b[0m\n\u001b[0m      ^\u001b[0m\n\u001b[0;31mSyntaxError\u001b[0m\u001b[0;31m:\u001b[0m invalid syntax\n"
          ]
        }
      ]
    },
    {
      "cell_type": "code",
      "metadata": {
        "id": "lqCy18pbXtdX",
        "colab_type": "code",
        "outputId": "94c47b17-6ee8-486c-f880-76a2852b005f",
        "colab": {
          "base_uri": "https://localhost:8080/",
          "height": 68
        }
      },
      "source": [
        "x = 5\n",
        "z = 2.3\n",
        "y = \"John\"\n",
        "\n",
        "print(x)\n",
        "print(y)\n",
        "print(z)"
      ],
      "execution_count": 0,
      "outputs": [
        {
          "output_type": "stream",
          "text": [
            "5\n",
            "John\n",
            "2.3\n"
          ],
          "name": "stdout"
        }
      ]
    },
    {
      "cell_type": "code",
      "metadata": {
        "id": "MmgcYCE1F3yo",
        "colab_type": "code",
        "outputId": "c1705ea3-c436-4153-e08b-fde9bb3efcff",
        "colab": {
          "base_uri": "https://localhost:8080/",
          "height": 34
        }
      },
      "source": [
        "type(x)"
      ],
      "execution_count": 0,
      "outputs": [
        {
          "output_type": "execute_result",
          "data": {
            "text/plain": [
              "int"
            ]
          },
          "metadata": {
            "tags": []
          },
          "execution_count": 28
        }
      ]
    },
    {
      "cell_type": "code",
      "metadata": {
        "id": "UXblmzp4F7-H",
        "colab_type": "code",
        "outputId": "a86d6123-b2ad-4280-b3c3-dad886c2f744",
        "colab": {
          "base_uri": "https://localhost:8080/",
          "height": 34
        }
      },
      "source": [
        "type(z)"
      ],
      "execution_count": 0,
      "outputs": [
        {
          "output_type": "execute_result",
          "data": {
            "text/plain": [
              "float"
            ]
          },
          "metadata": {
            "tags": []
          },
          "execution_count": 29
        }
      ]
    },
    {
      "cell_type": "code",
      "metadata": {
        "id": "ZiL0oMV4F95L",
        "colab_type": "code",
        "outputId": "52dbad3f-bfdf-4c65-e9ef-64652a061fa4",
        "colab": {
          "base_uri": "https://localhost:8080/",
          "height": 34
        }
      },
      "source": [
        "type(y)"
      ],
      "execution_count": 0,
      "outputs": [
        {
          "output_type": "execute_result",
          "data": {
            "text/plain": [
              "str"
            ]
          },
          "metadata": {
            "tags": []
          },
          "execution_count": 30
        }
      ]
    },
    {
      "cell_type": "markdown",
      "metadata": {
        "id": "VHcZ6X_fXtdd",
        "colab_type": "text"
      },
      "source": [
        "A **function call**. `print` is an extremely useful builtin Python function that displays the value passed to it on the screen. We call functions by putting parentheses after their name, with the inputs to the function (or *arguments*) in between."
      ]
    },
    {
      "cell_type": "markdown",
      "metadata": {
        "id": "bJy_IIA8Xtdh",
        "colab_type": "text"
      },
      "source": [
        "\n",
        "**Anything after a # is ignored by Python** \n",
        "\n",
        "'#' is used to declare a comment"
      ]
    },
    {
      "cell_type": "code",
      "metadata": {
        "id": "0iwMN8Qiv0CZ",
        "colab_type": "code",
        "colab": {}
      },
      "source": [
        "# delare a variable called name\n",
        "name = 'Smanga'"
      ],
      "execution_count": 0,
      "outputs": []
    },
    {
      "cell_type": "markdown",
      "metadata": {
        "id": "THNTxGohv-tg",
        "colab_type": "text"
      },
      "source": [
        "[link text](https://)"
      ]
    },
    {
      "cell_type": "markdown",
      "metadata": {
        "id": "TcR-DT_kv-79",
        "colab_type": "text"
      },
      "source": [
        "## Numeric Expressions"
      ]
    },
    {
      "cell_type": "markdown",
      "metadata": {
        "id": "WA_hQVTRxHPs",
        "colab_type": "text"
      },
      "source": [
        "| Operator     | Name           | Description                                            |\n",
        "|--------------|----------------|--------------------------------------------------------|\n",
        "| ``a + b``    | Addition       | Sum of ``a`` and ``b``                                 |\n",
        "| ``a - b``    | Subtraction    | Difference of ``a`` and ``b``                          |\n",
        "| ``a * b``    | Multiplication | Product of ``a`` and ``b``                             |\n",
        "| ``a / b``    | True division  | Quotient of ``a`` and ``b``                            |\n",
        "| ``a // b``   | Floor division | Quotient of ``a`` and ``b``, removing fractional parts |\n",
        "| ``a % b``    | Modulus        | Integer remainder after division of ``a`` by ``b``     |\n",
        "| ``a ** b``   | Exponentiation | ``a`` raised to the power of ``b``                     |\n",
        "| ``-a``       | Negation       | The negative of ``a``                                  |"
      ]
    },
    {
      "cell_type": "code",
      "metadata": {
        "id": "DIdfNXs9Xtdn",
        "colab_type": "code",
        "outputId": "fa42d74f-f756-4494-9a8b-b8a05d7b9490",
        "colab": {
          "base_uri": "https://localhost:8080/",
          "height": 34
        }
      },
      "source": [
        "x = 3\n",
        "print(x*3)"
      ],
      "execution_count": 0,
      "outputs": [
        {
          "output_type": "stream",
          "text": [
            "9\n"
          ],
          "name": "stdout"
        }
      ]
    },
    {
      "cell_type": "code",
      "metadata": {
        "id": "hcrnGR36yPGA",
        "colab_type": "code",
        "outputId": "b6ebf4ff-58e8-473e-eaef-5a6218314607",
        "colab": {
          "base_uri": "https://localhost:8080/",
          "height": 34
        }
      },
      "source": [
        "x = 5 \n",
        "type(x)"
      ],
      "execution_count": 0,
      "outputs": [
        {
          "output_type": "execute_result",
          "data": {
            "text/plain": [
              "int"
            ]
          },
          "metadata": {
            "tags": []
          },
          "execution_count": 35
        }
      ]
    },
    {
      "cell_type": "markdown",
      "metadata": {
        "id": "SpNzjFVpXtd4",
        "colab_type": "text"
      },
      "source": [
        "It's an `int` - short for integer. There's another sort of number we commonly encounter in Python:\n",
        "\n",
        "Integers are whole numbers: \n",
        "-14, -2, 0, 1, 100, 401233\n"
      ]
    },
    {
      "cell_type": "code",
      "metadata": {
        "id": "BPq4OvK3Xtd4",
        "colab_type": "code",
        "outputId": "914ad374-9ed4-4e8e-fc7d-ecf55494faca",
        "colab": {
          "base_uri": "https://localhost:8080/",
          "height": 34
        }
      },
      "source": [
        "type(19.95)"
      ],
      "execution_count": 0,
      "outputs": [
        {
          "output_type": "execute_result",
          "data": {
            "text/plain": [
              "float"
            ]
          },
          "metadata": {
            "tags": []
          },
          "execution_count": 15
        }
      ]
    },
    {
      "cell_type": "markdown",
      "metadata": {
        "id": "PoKW-ooaXtd9",
        "colab_type": "text"
      },
      "source": [
        "A `float` is a number with a decimal place - very useful for representing things like weights or proportions.\n",
        "\n",
        "`type()` is the second built-in function we've seen (after `print()`), and it's another good one to remember. It's very useful to be able to ask Python \"what kind of thing is this?\". "
      ]
    },
    {
      "cell_type": "markdown",
      "metadata": {
        "id": "2vHcBseZXtd_",
        "colab_type": "text"
      },
      "source": [
        "A natural thing to want to do with numbers is perform arithmetic. We've seen the `+` operator for addition, and the `*` operator for multiplication (of a sort). Python also has us covered for the rest of the basic buttons on your calculator:\n",
        "\n",
        "\n",
        "\n",
        "One interesting observation here is that, whereas your calculator probably just has one button for division, Python can do two kinds. \"True division\" is basically what your calculator does:"
      ]
    },
    {
      "cell_type": "code",
      "metadata": {
        "id": "CHQKw0V5Xtd_",
        "colab_type": "code",
        "outputId": "60a2cf27-b97c-472a-81f5-a782d2bc9859",
        "colab": {
          "base_uri": "https://localhost:8080/",
          "height": 51
        }
      },
      "source": [
        "print(5.0 / 2.0)\n",
        "print(6 / 2)"
      ],
      "execution_count": 0,
      "outputs": [
        {
          "output_type": "stream",
          "text": [
            "2.5\n",
            "3\n"
          ],
          "name": "stdout"
        }
      ]
    },
    {
      "cell_type": "markdown",
      "metadata": {
        "id": "bWsv0YlBXteC",
        "colab_type": "text"
      },
      "source": [
        "It always gives us a `float`. \n",
        "\n",
        "The `//` operator gives us a result that's rounded down to the next integer."
      ]
    },
    {
      "cell_type": "code",
      "metadata": {
        "id": "wZvXgUW1XteC",
        "colab_type": "code",
        "outputId": "9d420670-56f9-4ea6-8ba6-378a70cdaab6",
        "colab": {
          "base_uri": "https://localhost:8080/",
          "height": 51
        }
      },
      "source": [
        "print(5.0 // 2.0)\n",
        "print(6 // 2)"
      ],
      "execution_count": 0,
      "outputs": [
        {
          "output_type": "stream",
          "text": [
            "2.0\n",
            "3\n"
          ],
          "name": "stdout"
        }
      ]
    },
    {
      "cell_type": "markdown",
      "metadata": {
        "id": "WSWxAPxHzT1B",
        "colab_type": "text"
      },
      "source": [
        "What is the value of **x**?"
      ]
    },
    {
      "cell_type": "code",
      "metadata": {
        "id": "WnIvf75xx9PE",
        "colab_type": "code",
        "outputId": "675bce4f-a741-4952-bf76-3dbe66a9acb9",
        "colab": {
          "base_uri": "https://localhost:8080/",
          "height": 34
        }
      },
      "source": [
        " x = 3.9 * x * (1 - x)\n",
        " print(x)"
      ],
      "execution_count": 0,
      "outputs": [
        {
          "output_type": "stream",
          "text": [
            "-2226.744\n"
          ],
          "name": "stdout"
        }
      ]
    },
    {
      "cell_type": "markdown",
      "metadata": {
        "id": "-oaxM2sCXteH",
        "colab_type": "text"
      },
      "source": [
        "### Order of operations\n",
        "\n",
        "The arithmetic we learned in primary school has conventions about the order in which operations are evaluated. Some remember these by a mnemonic such as **PEMDAS** - **P**arentheses, **E**xponents, **M**ultiplication/**D**ivision, **A**ddition/**S**ubtraction.\n",
        "\n",
        "Python follows similar rules about which calculations to perform first. They're mostly pretty intuitive."
      ]
    },
    {
      "cell_type": "markdown",
      "metadata": {
        "id": "lc1YLV5vJmkq",
        "colab_type": "text"
      },
      "source": [
        "1. Parenthesis\n",
        "2. Power\n",
        "3. Multiplication\n",
        "4. Addition\n",
        "5. Left to Right\n"
      ]
    },
    {
      "cell_type": "code",
      "metadata": {
        "id": "MI53npTcXteI",
        "colab_type": "code",
        "outputId": "7fee8fa3-32a6-4f51-b375-bbbe7dc309ba",
        "colab": {
          "base_uri": "https://localhost:8080/",
          "height": 34
        }
      },
      "source": [
        "8 - 3 + 2"
      ],
      "execution_count": 0,
      "outputs": [
        {
          "output_type": "execute_result",
          "data": {
            "text/plain": [
              "7"
            ]
          },
          "metadata": {
            "tags": []
          },
          "execution_count": 1
        }
      ]
    },
    {
      "cell_type": "code",
      "metadata": {
        "id": "39zg5SAsXteO",
        "colab_type": "code",
        "outputId": "1e7dea02-28d0-48d0-cf13-d67f400818dc",
        "colab": {
          "base_uri": "https://localhost:8080/",
          "height": 34
        }
      },
      "source": [
        "-3 + 4 * 2"
      ],
      "execution_count": 0,
      "outputs": [
        {
          "output_type": "execute_result",
          "data": {
            "text/plain": [
              "5"
            ]
          },
          "metadata": {
            "tags": []
          },
          "execution_count": 2
        }
      ]
    },
    {
      "cell_type": "markdown",
      "metadata": {
        "id": "H9NZ1p-oXteQ",
        "colab_type": "text"
      },
      "source": [
        "Sometimes the default order of operations isn't what we want:"
      ]
    },
    {
      "cell_type": "code",
      "metadata": {
        "id": "hyqk3zkOXteR",
        "colab_type": "code",
        "outputId": "99624695-e74b-4739-f5a9-31e329045a52",
        "colab": {
          "base_uri": "https://localhost:8080/",
          "height": 34
        }
      },
      "source": [
        "hat_height_cm = 25\n",
        "my_height_cm = 190\n",
        "# How tall am I, in meters, when wearing my hat?\n",
        "total_height_meters = hat_height_cm + my_height_cm / 100\n",
        "print(\"Height in meters =\", total_height_meters, \"?\")"
      ],
      "execution_count": 0,
      "outputs": [
        {
          "output_type": "stream",
          "text": [
            "('Height in meters =', 26, '?')\n"
          ],
          "name": "stdout"
        }
      ]
    },
    {
      "cell_type": "markdown",
      "metadata": {
        "id": "EZsDiONCXteV",
        "colab_type": "text"
      },
      "source": [
        "Parentheses are your trump card. You can add them to force Python to evaluate sub-expressions in a different order (or just to make your code easier to read)."
      ]
    },
    {
      "cell_type": "code",
      "metadata": {
        "id": "jrI1GLOQXteV",
        "colab_type": "code",
        "outputId": "e08675b4-38c2-4f6a-8bf9-d7f55e523642",
        "colab": {
          "base_uri": "https://localhost:8080/",
          "height": 34
        }
      },
      "source": [
        "total_height_meters = (hat_height_cm + my_height_cm) / 100\n",
        "print(\"Height in meters =\", total_height_meters)"
      ],
      "execution_count": 0,
      "outputs": [
        {
          "output_type": "stream",
          "text": [
            "('Height in meters =', 2)\n"
          ],
          "name": "stdout"
        }
      ]
    },
    {
      "cell_type": "markdown",
      "metadata": {
        "id": "ZqxUe_I3XteZ",
        "colab_type": "text"
      },
      "source": [
        "### Builtin functions for working with numbers\n",
        "\n",
        "`min` and `max` return the minimum and maximum of their arguments, respectively..."
      ]
    },
    {
      "cell_type": "code",
      "metadata": {
        "id": "9iZ_tolxXteZ",
        "colab_type": "code",
        "outputId": "5db66b1e-4133-4393-dc9d-66f2a934d597",
        "colab": {
          "base_uri": "https://localhost:8080/",
          "height": 51
        }
      },
      "source": [
        "print(min(1, 2, 3))\n",
        "print(max(1, 2, 3))"
      ],
      "execution_count": 0,
      "outputs": [
        {
          "output_type": "stream",
          "text": [
            "1\n",
            "3\n"
          ],
          "name": "stdout"
        }
      ]
    },
    {
      "cell_type": "markdown",
      "metadata": {
        "id": "PgLNHddUXted",
        "colab_type": "text"
      },
      "source": [
        "`abs` returns the absolute value of it argument:"
      ]
    },
    {
      "cell_type": "code",
      "metadata": {
        "id": "T4lnoppIXtee",
        "colab_type": "code",
        "outputId": "031d726a-92f6-442d-edd8-5d81d6cdd110",
        "colab": {
          "base_uri": "https://localhost:8080/",
          "height": 51
        }
      },
      "source": [
        "print(abs(32))\n",
        "print(abs(-32))"
      ],
      "execution_count": 0,
      "outputs": [
        {
          "output_type": "stream",
          "text": [
            "32\n",
            "32\n"
          ],
          "name": "stdout"
        }
      ]
    },
    {
      "cell_type": "markdown",
      "metadata": {
        "id": "gqYnE-vaXO2Q",
        "colab_type": "text"
      },
      "source": [
        "**Type Conversions**"
      ]
    },
    {
      "cell_type": "markdown",
      "metadata": {
        "id": "dXnU5kz5Xteg",
        "colab_type": "text"
      },
      "source": [
        "In addition to being the names of Python's two main numerical types, `int` and `float` can also be called as functions which convert their arguments to the corresponding type:"
      ]
    },
    {
      "cell_type": "code",
      "metadata": {
        "id": "Qx3wYx7OXteh",
        "colab_type": "code",
        "outputId": "e8acf744-6a1e-4a1d-8a36-471720f6189b",
        "colab": {
          "base_uri": "https://localhost:8080/",
          "height": 68
        }
      },
      "source": [
        "print(float(10))\n",
        "print(int(3.33))\n",
        "# They can even be called on strings!\n",
        "print(int('807') + 1)"
      ],
      "execution_count": 0,
      "outputs": [
        {
          "output_type": "stream",
          "text": [
            "10.0\n",
            "3\n",
            "808\n"
          ],
          "name": "stdout"
        }
      ]
    },
    {
      "cell_type": "code",
      "metadata": {
        "id": "-pSUFJw4YR6i",
        "colab_type": "code",
        "outputId": "c1697d57-0951-46d4-aab6-4ef54aa385a2",
        "colab": {
          "base_uri": "https://localhost:8080/",
          "height": 198
        }
      },
      "source": [
        "sval = '123'\n",
        "type(sval)\n",
        "print sval + 1\n"
      ],
      "execution_count": 0,
      "outputs": [
        {
          "output_type": "error",
          "ename": "TypeError",
          "evalue": "ignored",
          "traceback": [
            "\u001b[0;31m\u001b[0m",
            "\u001b[0;31mTypeError\u001b[0mTraceback (most recent call last)",
            "\u001b[0;32m<ipython-input-8-d561be745d2e>\u001b[0m in \u001b[0;36m<module>\u001b[0;34m()\u001b[0m\n\u001b[1;32m      1\u001b[0m \u001b[0msval\u001b[0m \u001b[0;34m=\u001b[0m \u001b[0;34m'123'\u001b[0m\u001b[0;34m\u001b[0m\u001b[0;34m\u001b[0m\u001b[0m\n\u001b[1;32m      2\u001b[0m \u001b[0mtype\u001b[0m\u001b[0;34m(\u001b[0m\u001b[0msval\u001b[0m\u001b[0;34m)\u001b[0m\u001b[0;34m\u001b[0m\u001b[0;34m\u001b[0m\u001b[0m\n\u001b[0;32m----> 3\u001b[0;31m \u001b[0;32mprint\u001b[0m \u001b[0msval\u001b[0m \u001b[0;34m+\u001b[0m \u001b[0;36m1\u001b[0m\u001b[0;34m\u001b[0m\u001b[0;34m\u001b[0m\u001b[0m\n\u001b[0m",
            "\u001b[0;31mTypeError\u001b[0m: cannot concatenate 'str' and 'int' objects"
          ]
        }
      ]
    },
    {
      "cell_type": "code",
      "metadata": {
        "id": "0E5eeuLaLAJG",
        "colab_type": "code",
        "outputId": "24f040c2-fb6f-4c7b-948a-397c89efba00",
        "colab": {
          "base_uri": "https://localhost:8080/",
          "height": 34
        }
      },
      "source": [
        "ival = int(sval)\n",
        "type(ival)\n",
        "print ival + 1"
      ],
      "execution_count": 0,
      "outputs": [
        {
          "output_type": "stream",
          "text": [
            "124\n"
          ],
          "name": "stdout"
        }
      ]
    },
    {
      "cell_type": "code",
      "metadata": {
        "id": "OXFBBZ8LLGwN",
        "colab_type": "code",
        "outputId": "8b27883c-31cf-4acd-f798-4a9fcc1df46f",
        "colab": {
          "base_uri": "https://localhost:8080/",
          "height": 181
        }
      },
      "source": [
        "nsv = 'hello bob'\n",
        "niv = int(nsv)"
      ],
      "execution_count": 0,
      "outputs": [
        {
          "output_type": "error",
          "ename": "ValueError",
          "evalue": "ignored",
          "traceback": [
            "\u001b[0;31m\u001b[0m",
            "\u001b[0;31mValueError\u001b[0mTraceback (most recent call last)",
            "\u001b[0;32m<ipython-input-10-de8bd31b3c29>\u001b[0m in \u001b[0;36m<module>\u001b[0;34m()\u001b[0m\n\u001b[1;32m      1\u001b[0m \u001b[0mnsv\u001b[0m \u001b[0;34m=\u001b[0m \u001b[0;34m'hello bob'\u001b[0m\u001b[0;34m\u001b[0m\u001b[0;34m\u001b[0m\u001b[0m\n\u001b[0;32m----> 2\u001b[0;31m \u001b[0mniv\u001b[0m \u001b[0;34m=\u001b[0m \u001b[0mint\u001b[0m\u001b[0;34m(\u001b[0m\u001b[0mnsv\u001b[0m\u001b[0;34m)\u001b[0m\u001b[0;34m\u001b[0m\u001b[0;34m\u001b[0m\u001b[0m\n\u001b[0m",
            "\u001b[0;31mValueError\u001b[0m: invalid literal for int() with base 10: 'hello bob'"
          ]
        }
      ]
    },
    {
      "cell_type": "markdown",
      "metadata": {
        "id": "su_UC72OLQOA",
        "colab_type": "text"
      },
      "source": [
        "### User Input\n",
        "We can instruct Python to pause and read data from the user using the *input()*  function\n",
        "\n",
        "The raw_input()  function returns a string"
      ]
    },
    {
      "cell_type": "code",
      "metadata": {
        "id": "fg8Dl3-lLPNo",
        "colab_type": "code",
        "outputId": "1f3d476e-96ca-40e4-fdda-7f57d285d244",
        "colab": {
          "base_uri": "https://localhost:8080/",
          "height": 51
        }
      },
      "source": [
        "name = input('Who are you?')\n",
        "print ('Welcome', name)"
      ],
      "execution_count": 0,
      "outputs": [
        {
          "output_type": "stream",
          "text": [
            "Who are you?mo\n",
            "Welcome mo\n"
          ],
          "name": "stdout"
        }
      ]
    },
    {
      "cell_type": "markdown",
      "metadata": {
        "id": "LTwSmgi4MHCe",
        "colab_type": "text"
      },
      "source": [
        "what if we want to read a number from the user??\n",
        "\n",
        "we convert the string to a number"
      ]
    },
    {
      "cell_type": "code",
      "metadata": {
        "id": "JXbAbrGNLi9c",
        "colab_type": "code",
        "outputId": "1407a49e-bf50-41f1-e66c-448f8a75f61b",
        "colab": {
          "base_uri": "https://localhost:8080/",
          "height": 51
        }
      },
      "source": [
        "inp = input('Which floor?')\n",
        "usf = int(inp)\n",
        "print ('floor', usf)\n"
      ],
      "execution_count": 0,
      "outputs": [
        {
          "output_type": "stream",
          "text": [
            "Which floor?5\n",
            "floor 5\n"
          ],
          "name": "stdout"
        }
      ]
    },
    {
      "cell_type": "markdown",
      "metadata": {
        "id": "EQrdqx25YBX5",
        "colab_type": "text"
      },
      "source": [
        "## Exercise:\n",
        "*Write a program to prompt the user for hours and rate per hour to compute gross pay.*\n",
        "\n",
        "Example:\n",
        "\n",
        "*Enter hours: 35*\n",
        "\n",
        "*Enter rate: 2.75*\n",
        "\n",
        "\n",
        "\n",
        "**pay: 96.25**"
      ]
    },
    {
      "cell_type": "code",
      "metadata": {
        "id": "Iptqn1VjMkz3",
        "colab_type": "code",
        "colab": {}
      },
      "source": [
        ""
      ],
      "execution_count": 0,
      "outputs": []
    }
  ]
}