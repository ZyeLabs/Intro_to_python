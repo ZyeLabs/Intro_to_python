{
  "nbformat": 4,
  "nbformat_minor": 0,
  "metadata": {
    "colab": {
      "name": "Lesson_4_List.ipynb",
      "provenance": [],
      "collapsed_sections": [],
      "include_colab_link": true
    },
    "kernelspec": {
      "display_name": "Python 3",
      "language": "python",
      "name": "python3"
    }
  },
  "cells": [
    {
      "cell_type": "markdown",
      "metadata": {
        "id": "view-in-github",
        "colab_type": "text"
      },
      "source": [
        "<a href=\"https://colab.research.google.com/github/abuobayda/Intro_to_python/blob/master/Lesson_4_List.ipynb\" target=\"_parent\"><img src=\"https://colab.research.google.com/assets/colab-badge.svg\" alt=\"Open In Colab\"/></a>"
      ]
    },
    {
      "cell_type": "markdown",
      "metadata": {
        "id": "qB9rO-L9pTR8",
        "colab_type": "text"
      },
      "source": [
        "# Lists\n",
        "\n",
        "Lists in Python represent ordered sequences of values. They can be defined with comma-separated values between square brackets. For example, here is a list of the first few prime numbers:"
      ]
    },
    {
      "cell_type": "markdown",
      "metadata": {
        "id": "Her0rCzD0AXq",
        "colab_type": "text"
      },
      "source": [
        "![alt text](https://img.icons8.com/cotton/2x/list--v2.png)"
      ]
    },
    {
      "cell_type": "code",
      "metadata": {
        "id": "rI71LL3zpTR8",
        "colab_type": "code",
        "colab": {}
      },
      "source": [
        "primes = [2, 3, 5, 7]"
      ],
      "execution_count": 0,
      "outputs": []
    },
    {
      "cell_type": "code",
      "metadata": {
        "id": "31lzVTExmGbB",
        "colab_type": "code",
        "outputId": "a2a714d5-b544-4cf3-e289-93ac3f085dda",
        "colab": {
          "base_uri": "https://localhost:8080/",
          "height": 34
        }
      },
      "source": [
        "print(primes)"
      ],
      "execution_count": 0,
      "outputs": [
        {
          "output_type": "stream",
          "text": [
            "[2, 3, 5, 7]\n"
          ],
          "name": "stdout"
        }
      ]
    },
    {
      "cell_type": "markdown",
      "metadata": {
        "id": "Hu1bdt6ypTR_",
        "colab_type": "text"
      },
      "source": [
        "We can put other types of things in lists:"
      ]
    },
    {
      "cell_type": "code",
      "metadata": {
        "id": "d-snHtDfhxRL",
        "colab_type": "code",
        "colab": {}
      },
      "source": [
        "planets = ['Mercury', 'Venus', 'Earth', 'Mars', 'Jupiter', 'Saturn', 'Uranus', 'Neptune']"
      ],
      "execution_count": 0,
      "outputs": []
    },
    {
      "cell_type": "code",
      "metadata": {
        "id": "5HeXIfB6oR2-",
        "colab_type": "code",
        "outputId": "7b51ed6c-9fb7-46d2-cbbc-8be981a7a060",
        "colab": {
          "base_uri": "https://localhost:8080/",
          "height": 34
        }
      },
      "source": [
        "planets[2]"
      ],
      "execution_count": 0,
      "outputs": [
        {
          "output_type": "execute_result",
          "data": {
            "text/plain": [
              "'Earth'"
            ]
          },
          "metadata": {
            "tags": []
          },
          "execution_count": 4
        }
      ]
    },
    {
      "cell_type": "code",
      "metadata": {
        "id": "kdI12SvloWck",
        "colab_type": "code",
        "outputId": "ff88bd2c-4cd7-44a3-8173-21d45a26312a",
        "colab": {
          "base_uri": "https://localhost:8080/",
          "height": 34
        }
      },
      "source": [
        "planets[7]"
      ],
      "execution_count": 0,
      "outputs": [
        {
          "output_type": "execute_result",
          "data": {
            "text/plain": [
              "'Neptune'"
            ]
          },
          "metadata": {
            "tags": []
          },
          "execution_count": 5
        }
      ]
    },
    {
      "cell_type": "code",
      "metadata": {
        "id": "J53M3iKdobAC",
        "colab_type": "code",
        "outputId": "ec789430-d0c7-4ca8-8f38-565db97518aa",
        "colab": {
          "base_uri": "https://localhost:8080/",
          "height": 34
        }
      },
      "source": [
        "planets[-1]"
      ],
      "execution_count": 0,
      "outputs": [
        {
          "output_type": "execute_result",
          "data": {
            "text/plain": [
              "'Neptune'"
            ]
          },
          "metadata": {
            "tags": []
          },
          "execution_count": 6
        }
      ]
    },
    {
      "cell_type": "code",
      "metadata": {
        "id": "ailMW24tmNCd",
        "colab_type": "code",
        "outputId": "0fee2fec-cf2d-44e6-db21-f14e504ccc60",
        "colab": {
          "base_uri": "https://localhost:8080/",
          "height": 34
        }
      },
      "source": [
        "print(planets)"
      ],
      "execution_count": 0,
      "outputs": [
        {
          "output_type": "stream",
          "text": [
            "['Mercury', 'Venus', 'Earth', 'Mars', 'Jupiter', 'Saturn', 'Uranus', 'Neptune']\n"
          ],
          "name": "stdout"
        }
      ]
    },
    {
      "cell_type": "code",
      "metadata": {
        "id": "urpebwXBmiJ4",
        "colab_type": "code",
        "colab": {}
      },
      "source": [
        "friends = ['Joseph', 'Glenn', 'Sally']"
      ],
      "execution_count": 0,
      "outputs": []
    },
    {
      "cell_type": "code",
      "metadata": {
        "id": "T7wUsxbRmj-2",
        "colab_type": "code",
        "outputId": "74fb99b9-6de7-4aa4-fa87-91ca6dee7b62",
        "colab": {
          "base_uri": "https://localhost:8080/",
          "height": 69
        }
      },
      "source": [
        "for i in friends:\n",
        "  print(i)"
      ],
      "execution_count": 0,
      "outputs": [
        {
          "output_type": "stream",
          "text": [
            "Joseph\n",
            "Glenn\n",
            "Sally\n"
          ],
          "name": "stdout"
        }
      ]
    },
    {
      "cell_type": "code",
      "metadata": {
        "id": "-59UXG3Ni3E0",
        "colab_type": "code",
        "outputId": "0a8b398c-7d36-4034-a94b-d5a31f3ac0d9",
        "colab": {
          "base_uri": "https://localhost:8080/",
          "height": 86
        }
      },
      "source": [
        "friends = ['Joseph', 'Glenn', 'Sally']\n",
        "for friend in friends:\n",
        "    print ('Happy New Year:',  friend)\n",
        "print('Done!')"
      ],
      "execution_count": 0,
      "outputs": [
        {
          "output_type": "stream",
          "text": [
            "Happy New Year: Joseph\n",
            "Happy New Year: Glenn\n",
            "Happy New Year: Sally\n",
            "Done!\n"
          ],
          "name": "stdout"
        }
      ]
    },
    {
      "cell_type": "markdown",
      "metadata": {
        "id": "T-q_4cmdpTSD",
        "colab_type": "text"
      },
      "source": [
        "Including other lists:"
      ]
    },
    {
      "cell_type": "code",
      "metadata": {
        "id": "QMYkhUnJpTSD",
        "colab_type": "code",
        "colab": {}
      },
      "source": [
        "hands = [\n",
        "    ['J', 'Q', 'K'],\n",
        "    ['2', '2', '2'],\n",
        "    ['6', 'A', 'K'], # (Comma after the last element is optional)\n",
        "]\n",
        "#(I could also have written this on one line, but it can get hard to read)\n",
        "hands = [['J', 'Q', 'K'], ['2', '2', '2'], ['6', 'A', 'K']]"
      ],
      "execution_count": 0,
      "outputs": []
    },
    {
      "cell_type": "code",
      "metadata": {
        "id": "YMjvJtfkjfr4",
        "colab_type": "code",
        "outputId": "afd0e5d5-f92a-4f87-801d-10c2dfb0de90",
        "colab": {
          "base_uri": "https://localhost:8080/",
          "height": 34
        }
      },
      "source": [
        "print(hands)"
      ],
      "execution_count": 0,
      "outputs": [
        {
          "output_type": "stream",
          "text": [
            "[['J', 'Q', 'K'], ['2', '2', '2'], ['6', 'A', 'K']]\n"
          ],
          "name": "stdout"
        }
      ]
    },
    {
      "cell_type": "code",
      "metadata": {
        "id": "U2gEmmPNjiG4",
        "colab_type": "code",
        "outputId": "ce5c87e0-f3f8-4985-be3d-e2e6a6fa41a3",
        "colab": {
          "base_uri": "https://localhost:8080/",
          "height": 34
        }
      },
      "source": [
        "print(hands[0][0])"
      ],
      "execution_count": 0,
      "outputs": [
        {
          "output_type": "stream",
          "text": [
            "J\n"
          ],
          "name": "stdout"
        }
      ]
    },
    {
      "cell_type": "code",
      "metadata": {
        "id": "kXDsulQBjmXX",
        "colab_type": "code",
        "colab": {}
      },
      "source": [
        ""
      ],
      "execution_count": 0,
      "outputs": []
    },
    {
      "cell_type": "markdown",
      "metadata": {
        "id": "LHlkCL8upTSF",
        "colab_type": "text"
      },
      "source": [
        "A list can contain a mix of different types:"
      ]
    },
    {
      "cell_type": "code",
      "metadata": {
        "id": "wfrItcJnpTSG",
        "colab_type": "code",
        "colab": {}
      },
      "source": [
        "my_favourite_things = [32, 'raindrops on roses', help]\n",
        "# (Yes,  Python's help function is *definitely* one of my favourite things)"
      ],
      "execution_count": 0,
      "outputs": []
    },
    {
      "cell_type": "code",
      "metadata": {
        "id": "uEo30z0lpBFG",
        "colab_type": "code",
        "outputId": "21356cd2-a2a0-4239-82d3-bb5e8fc4eb0d",
        "colab": {
          "base_uri": "https://localhost:8080/",
          "height": 2056
        }
      },
      "source": [
        "help(planets)"
      ],
      "execution_count": 0,
      "outputs": [
        {
          "output_type": "stream",
          "text": [
            "Help on list object:\n",
            "\n",
            "class list(object)\n",
            " |  list() -> new empty list\n",
            " |  list(iterable) -> new list initialized from iterable's items\n",
            " |  \n",
            " |  Methods defined here:\n",
            " |  \n",
            " |  __add__(self, value, /)\n",
            " |      Return self+value.\n",
            " |  \n",
            " |  __contains__(self, key, /)\n",
            " |      Return key in self.\n",
            " |  \n",
            " |  __delitem__(self, key, /)\n",
            " |      Delete self[key].\n",
            " |  \n",
            " |  __eq__(self, value, /)\n",
            " |      Return self==value.\n",
            " |  \n",
            " |  __ge__(self, value, /)\n",
            " |      Return self>=value.\n",
            " |  \n",
            " |  __getattribute__(self, name, /)\n",
            " |      Return getattr(self, name).\n",
            " |  \n",
            " |  __getitem__(...)\n",
            " |      x.__getitem__(y) <==> x[y]\n",
            " |  \n",
            " |  __gt__(self, value, /)\n",
            " |      Return self>value.\n",
            " |  \n",
            " |  __iadd__(self, value, /)\n",
            " |      Implement self+=value.\n",
            " |  \n",
            " |  __imul__(self, value, /)\n",
            " |      Implement self*=value.\n",
            " |  \n",
            " |  __init__(self, /, *args, **kwargs)\n",
            " |      Initialize self.  See help(type(self)) for accurate signature.\n",
            " |  \n",
            " |  __iter__(self, /)\n",
            " |      Implement iter(self).\n",
            " |  \n",
            " |  __le__(self, value, /)\n",
            " |      Return self<=value.\n",
            " |  \n",
            " |  __len__(self, /)\n",
            " |      Return len(self).\n",
            " |  \n",
            " |  __lt__(self, value, /)\n",
            " |      Return self<value.\n",
            " |  \n",
            " |  __mul__(self, value, /)\n",
            " |      Return self*value.\n",
            " |  \n",
            " |  __ne__(self, value, /)\n",
            " |      Return self!=value.\n",
            " |  \n",
            " |  __new__(*args, **kwargs) from builtins.type\n",
            " |      Create and return a new object.  See help(type) for accurate signature.\n",
            " |  \n",
            " |  __repr__(self, /)\n",
            " |      Return repr(self).\n",
            " |  \n",
            " |  __reversed__(...)\n",
            " |      L.__reversed__() -- return a reverse iterator over the list\n",
            " |  \n",
            " |  __rmul__(self, value, /)\n",
            " |      Return value*self.\n",
            " |  \n",
            " |  __setitem__(self, key, value, /)\n",
            " |      Set self[key] to value.\n",
            " |  \n",
            " |  __sizeof__(...)\n",
            " |      L.__sizeof__() -- size of L in memory, in bytes\n",
            " |  \n",
            " |  append(...)\n",
            " |      L.append(object) -> None -- append object to end\n",
            " |  \n",
            " |  clear(...)\n",
            " |      L.clear() -> None -- remove all items from L\n",
            " |  \n",
            " |  copy(...)\n",
            " |      L.copy() -> list -- a shallow copy of L\n",
            " |  \n",
            " |  count(...)\n",
            " |      L.count(value) -> integer -- return number of occurrences of value\n",
            " |  \n",
            " |  extend(...)\n",
            " |      L.extend(iterable) -> None -- extend list by appending elements from the iterable\n",
            " |  \n",
            " |  index(...)\n",
            " |      L.index(value, [start, [stop]]) -> integer -- return first index of value.\n",
            " |      Raises ValueError if the value is not present.\n",
            " |  \n",
            " |  insert(...)\n",
            " |      L.insert(index, object) -- insert object before index\n",
            " |  \n",
            " |  pop(...)\n",
            " |      L.pop([index]) -> item -- remove and return item at index (default last).\n",
            " |      Raises IndexError if list is empty or index is out of range.\n",
            " |  \n",
            " |  remove(...)\n",
            " |      L.remove(value) -> None -- remove first occurrence of value.\n",
            " |      Raises ValueError if the value is not present.\n",
            " |  \n",
            " |  reverse(...)\n",
            " |      L.reverse() -- reverse *IN PLACE*\n",
            " |  \n",
            " |  sort(...)\n",
            " |      L.sort(key=None, reverse=False) -> None -- stable sort *IN PLACE*\n",
            " |  \n",
            " |  ----------------------------------------------------------------------\n",
            " |  Data and other attributes defined here:\n",
            " |  \n",
            " |  __hash__ = None\n",
            "\n"
          ],
          "name": "stdout"
        }
      ]
    },
    {
      "cell_type": "code",
      "metadata": {
        "id": "zZEtr-DVoXe5",
        "colab_type": "code",
        "outputId": "b72b8da4-e35f-4d6b-c40a-176118e3fd18",
        "colab": {
          "base_uri": "https://localhost:8080/",
          "height": 166
        }
      },
      "source": [
        "sorted(my_favourite_things)"
      ],
      "execution_count": 0,
      "outputs": [
        {
          "output_type": "error",
          "ename": "TypeError",
          "evalue": "ignored",
          "traceback": [
            "\u001b[0;31m---------------------------------------------------------------------------\u001b[0m",
            "\u001b[0;31mTypeError\u001b[0m                                 Traceback (most recent call last)",
            "\u001b[0;32m<ipython-input-58-903459633273>\u001b[0m in \u001b[0;36m<module>\u001b[0;34m()\u001b[0m\n\u001b[0;32m----> 1\u001b[0;31m \u001b[0msorted\u001b[0m\u001b[0;34m(\u001b[0m\u001b[0mmy_favourite_things\u001b[0m\u001b[0;34m)\u001b[0m\u001b[0;34m\u001b[0m\u001b[0;34m\u001b[0m\u001b[0m\n\u001b[0m",
            "\u001b[0;31mTypeError\u001b[0m: '<' not supported between instances of 'str' and 'int'"
          ]
        }
      ]
    },
    {
      "cell_type": "markdown",
      "metadata": {
        "id": "UegH4c6PpTSI",
        "colab_type": "text"
      },
      "source": [
        "## Indexing\n",
        "\n",
        "We can access individual list elements using Python's square bracket indexing syntax.\n"
      ]
    },
    {
      "cell_type": "code",
      "metadata": {
        "id": "vP_z9TsnpTSJ",
        "colab_type": "code",
        "outputId": "ce6ab97f-7aac-4f73-e44c-ec4cb11fa40f",
        "colab": {
          "base_uri": "https://localhost:8080/",
          "height": 34
        }
      },
      "source": [
        "friends = ['Tom', 'Smanga', 'Ali']\n",
        "print(friends[1])"
      ],
      "execution_count": 0,
      "outputs": [
        {
          "output_type": "stream",
          "text": [
            "Smanga\n"
          ],
          "name": "stdout"
        }
      ]
    },
    {
      "cell_type": "code",
      "metadata": {
        "id": "EtkMbpTmpTSL",
        "colab_type": "code",
        "outputId": "a4762fbe-8644-4504-847f-0f335a1a6134",
        "colab": {
          "base_uri": "https://localhost:8080/",
          "height": 34
        }
      },
      "source": [
        "friends[0]"
      ],
      "execution_count": 0,
      "outputs": [
        {
          "output_type": "execute_result",
          "data": {
            "text/plain": [
              "'Tom'"
            ]
          },
          "metadata": {
            "tags": []
          },
          "execution_count": 2
        }
      ]
    },
    {
      "cell_type": "code",
      "metadata": {
        "id": "KqNzsK3HpTSP",
        "colab_type": "code",
        "outputId": "2ccd6fa5-5408-4ffc-a758-dfc5bb8ade5a",
        "colab": {
          "base_uri": "https://localhost:8080/",
          "height": 34
        }
      },
      "source": [
        "friends[-1]"
      ],
      "execution_count": 0,
      "outputs": [
        {
          "output_type": "execute_result",
          "data": {
            "text/plain": [
              "'Ali'"
            ]
          },
          "metadata": {
            "tags": []
          },
          "execution_count": 3
        }
      ]
    },
    {
      "cell_type": "code",
      "metadata": {
        "id": "5_ufFUoypTSS",
        "colab_type": "code",
        "outputId": "cebfb16e-0713-4946-adf6-6e7886177949",
        "colab": {
          "base_uri": "https://localhost:8080/",
          "height": 34
        }
      },
      "source": [
        "friends[-2]"
      ],
      "execution_count": 0,
      "outputs": [
        {
          "output_type": "execute_result",
          "data": {
            "text/plain": [
              "'Smanga'"
            ]
          },
          "metadata": {
            "tags": []
          },
          "execution_count": 4
        }
      ]
    },
    {
      "cell_type": "markdown",
      "metadata": {
        "id": "LoZmvA641twr",
        "colab_type": "text"
      },
      "source": [
        "### range Function\n",
        "The **range** function **returns a list of numbers** that range from zero to one less than the **parameter**."
      ]
    },
    {
      "cell_type": "code",
      "metadata": {
        "id": "j7fW2S7u2AVR",
        "colab_type": "code",
        "outputId": "ce774859-a220-4a76-f39c-c3bfe1c08375",
        "colab": {
          "base_uri": "https://localhost:8080/",
          "height": 34
        }
      },
      "source": [
        "print(range(7))"
      ],
      "execution_count": 0,
      "outputs": [
        {
          "output_type": "stream",
          "text": [
            "range(0, 7)\n"
          ],
          "name": "stdout"
        }
      ]
    },
    {
      "cell_type": "code",
      "metadata": {
        "id": "fq7HT7y72EKd",
        "colab_type": "code",
        "outputId": "36a0aae5-73b9-4fa4-dde5-894b51866e1e",
        "colab": {
          "base_uri": "https://localhost:8080/",
          "height": 34
        }
      },
      "source": [
        "print(list(range(0,7)))"
      ],
      "execution_count": 0,
      "outputs": [
        {
          "output_type": "stream",
          "text": [
            "[0, 1, 2, 3, 4, 5, 6]\n"
          ],
          "name": "stdout"
        }
      ]
    },
    {
      "cell_type": "markdown",
      "metadata": {
        "id": "6-jcD_J82gje",
        "colab_type": "text"
      },
      "source": [
        "### Concatenating lists using '+'"
      ]
    },
    {
      "cell_type": "code",
      "metadata": {
        "id": "6rejz1hd2lsO",
        "colab_type": "code",
        "outputId": "bcb78411-b6ec-4a22-f612-26777cf7e938",
        "colab": {
          "base_uri": "https://localhost:8080/",
          "height": 34
        }
      },
      "source": [
        "a = [1, 2, 3]\n",
        "b = [4, 5, 6]\n",
        "print(a+b)"
      ],
      "execution_count": 0,
      "outputs": [
        {
          "output_type": "stream",
          "text": [
            "[1, 2, 3, 4, 5, 6]\n"
          ],
          "name": "stdout"
        }
      ]
    },
    {
      "cell_type": "markdown",
      "metadata": {
        "id": "aosSgiG3pTSV",
        "colab_type": "text"
      },
      "source": [
        "## Slicing"
      ]
    },
    {
      "cell_type": "code",
      "metadata": {
        "id": "PMrfi2uapTSV",
        "colab_type": "code",
        "colab": {}
      },
      "source": [
        "t = [9, 41, 12, 3, 74, 15]"
      ],
      "execution_count": 0,
      "outputs": []
    },
    {
      "cell_type": "code",
      "metadata": {
        "id": "frQsdNVs25qA",
        "colab_type": "code",
        "outputId": "77b90e47-d7a2-47f7-b002-70c1b83c940d",
        "colab": {
          "base_uri": "https://localhost:8080/",
          "height": 34
        }
      },
      "source": [
        "t[1:3]"
      ],
      "execution_count": 0,
      "outputs": [
        {
          "output_type": "execute_result",
          "data": {
            "text/plain": [
              "[41, 12]"
            ]
          },
          "metadata": {
            "tags": []
          },
          "execution_count": 9
        }
      ]
    },
    {
      "cell_type": "code",
      "metadata": {
        "id": "V9qt7Yd-28G-",
        "colab_type": "code",
        "outputId": "204c0aed-12d1-4d1f-b885-17d837d3056c",
        "colab": {
          "base_uri": "https://localhost:8080/",
          "height": 34
        }
      },
      "source": [
        "t[:4]"
      ],
      "execution_count": 0,
      "outputs": [
        {
          "output_type": "execute_result",
          "data": {
            "text/plain": [
              "[9, 41, 12, 3]"
            ]
          },
          "metadata": {
            "tags": []
          },
          "execution_count": 10
        }
      ]
    },
    {
      "cell_type": "code",
      "metadata": {
        "id": "Duf980HJ292z",
        "colab_type": "code",
        "outputId": "e1a8dbef-5f36-4d0b-97d6-15ffefb4c073",
        "colab": {
          "base_uri": "https://localhost:8080/",
          "height": 34
        }
      },
      "source": [
        "t[3:]"
      ],
      "execution_count": 0,
      "outputs": [
        {
          "output_type": "execute_result",
          "data": {
            "text/plain": [
              "[3, 74, 15]"
            ]
          },
          "metadata": {
            "tags": []
          },
          "execution_count": 11
        }
      ]
    },
    {
      "cell_type": "code",
      "metadata": {
        "id": "KPwRSHAV2_5x",
        "colab_type": "code",
        "outputId": "e2ac0c77-ad0b-49d9-cc54-b7c63b738506",
        "colab": {
          "base_uri": "https://localhost:8080/",
          "height": 34
        }
      },
      "source": [
        "t[:]"
      ],
      "execution_count": 0,
      "outputs": [
        {
          "output_type": "execute_result",
          "data": {
            "text/plain": [
              "[9, 41, 12, 3, 74, 15]"
            ]
          },
          "metadata": {
            "tags": []
          },
          "execution_count": 12
        }
      ]
    },
    {
      "cell_type": "code",
      "metadata": {
        "id": "JhI7zXB03CQY",
        "colab_type": "code",
        "outputId": "fc1a96c5-9d01-4ee1-c5b3-e510f5298dab",
        "colab": {
          "base_uri": "https://localhost:8080/",
          "height": 34
        }
      },
      "source": [
        "t[-3:]"
      ],
      "execution_count": 0,
      "outputs": [
        {
          "output_type": "execute_result",
          "data": {
            "text/plain": [
              "[3, 74, 15]"
            ]
          },
          "metadata": {
            "tags": []
          },
          "execution_count": 16
        }
      ]
    },
    {
      "cell_type": "markdown",
      "metadata": {
        "id": "gu8d_iSqpTSk",
        "colab_type": "text"
      },
      "source": [
        "<!-- TODO: include third 'step size' slice argument and its use for reversing? -->\n",
        "\n",
        "## Mutating lists\n",
        "\n",
        "Lists are mutable, meaning they can be modified \"in place\".\n",
        "\n",
        "One way to modify a list is to assign to an index or slice expression.\n",
        "\n",
        "For example, let's say we want to rename Mars:"
      ]
    },
    {
      "cell_type": "code",
      "metadata": {
        "id": "R3xCRxHcpTSA",
        "colab_type": "code",
        "colab": {}
      },
      "source": [
        "friends = ['Tom', 'Smanga', 'Ali']"
      ],
      "execution_count": 0,
      "outputs": []
    },
    {
      "cell_type": "code",
      "metadata": {
        "id": "koMY3HHZpTSk",
        "colab_type": "code",
        "outputId": "edec06f7-4e65-47a5-945e-9b3ea1507a0c",
        "colab": {
          "base_uri": "https://localhost:8080/",
          "height": 34
        }
      },
      "source": [
        "friends[0] = 'Linda'\n",
        "friends"
      ],
      "execution_count": 0,
      "outputs": [
        {
          "output_type": "execute_result",
          "data": {
            "text/plain": [
              "['Linda', 'Smanga', 'Ali']"
            ]
          },
          "metadata": {
            "tags": []
          },
          "execution_count": 20
        }
      ]
    },
    {
      "cell_type": "code",
      "metadata": {
        "id": "Gu-RD-GqpTSm",
        "colab_type": "code",
        "outputId": "d117ba22-d0f1-4dd0-f466-a0c3e73cebb3",
        "colab": {
          "base_uri": "https://localhost:8080/",
          "height": 34
        }
      },
      "source": [
        "friends[:2] = ['T', 'S']\n",
        "print(friends)\n",
        "# (Okay, that was rather silly. Let's give them back their old names)\n",
        "friends[:4] = ['Tom', 'Smanga', 'Ali', 'Sarah',]"
      ],
      "execution_count": 0,
      "outputs": [
        {
          "output_type": "stream",
          "text": [
            "['T', 'S', 'Ali']\n"
          ],
          "name": "stdout"
        }
      ]
    },
    {
      "cell_type": "code",
      "metadata": {
        "id": "s5M4Ic0Ypsdq",
        "colab_type": "code",
        "outputId": "a4df0cf3-02f8-4ad9-f641-7672f3100689",
        "colab": {
          "base_uri": "https://localhost:8080/",
          "height": 34
        }
      },
      "source": [
        "friends"
      ],
      "execution_count": 0,
      "outputs": [
        {
          "output_type": "execute_result",
          "data": {
            "text/plain": [
              "['Tom', 'Smanga', 'Ali', 'Sarah']"
            ]
          },
          "metadata": {
            "tags": []
          },
          "execution_count": 23
        }
      ]
    },
    {
      "cell_type": "markdown",
      "metadata": {
        "id": "gBW_8KUzpTSo",
        "colab_type": "text"
      },
      "source": [
        "## List functions\n",
        "\n",
        "Python has several useful builtin functions for working with lists.\n",
        "\n",
        "`len` gives the length of a list:"
      ]
    },
    {
      "cell_type": "code",
      "metadata": {
        "id": "6HC_On-I4JO6",
        "colab_type": "code",
        "outputId": "5193fa34-cad5-404d-dbf8-d9813d0162ad",
        "colab": {
          "base_uri": "https://localhost:8080/",
          "height": 34
        }
      },
      "source": [
        "x = list()\n",
        "print(type(x))"
      ],
      "execution_count": 0,
      "outputs": [
        {
          "output_type": "stream",
          "text": [
            "<class 'list'>\n"
          ],
          "name": "stdout"
        }
      ]
    },
    {
      "cell_type": "code",
      "metadata": {
        "id": "J8DFjjAJ4Nbm",
        "colab_type": "code",
        "outputId": "64af4009-0144-4da5-fb73-03b7fdd63fb3",
        "colab": {
          "base_uri": "https://localhost:8080/",
          "height": 799
        }
      },
      "source": [
        "dir(x)"
      ],
      "execution_count": 0,
      "outputs": [
        {
          "output_type": "execute_result",
          "data": {
            "text/plain": [
              "['__add__',\n",
              " '__class__',\n",
              " '__contains__',\n",
              " '__delattr__',\n",
              " '__delitem__',\n",
              " '__dir__',\n",
              " '__doc__',\n",
              " '__eq__',\n",
              " '__format__',\n",
              " '__ge__',\n",
              " '__getattribute__',\n",
              " '__getitem__',\n",
              " '__gt__',\n",
              " '__hash__',\n",
              " '__iadd__',\n",
              " '__imul__',\n",
              " '__init__',\n",
              " '__init_subclass__',\n",
              " '__iter__',\n",
              " '__le__',\n",
              " '__len__',\n",
              " '__lt__',\n",
              " '__mul__',\n",
              " '__ne__',\n",
              " '__new__',\n",
              " '__reduce__',\n",
              " '__reduce_ex__',\n",
              " '__repr__',\n",
              " '__reversed__',\n",
              " '__rmul__',\n",
              " '__setattr__',\n",
              " '__setitem__',\n",
              " '__sizeof__',\n",
              " '__str__',\n",
              " '__subclasshook__',\n",
              " 'append',\n",
              " 'clear',\n",
              " 'copy',\n",
              " 'count',\n",
              " 'extend',\n",
              " 'index',\n",
              " 'insert',\n",
              " 'pop',\n",
              " 'remove',\n",
              " 'reverse',\n",
              " 'sort']"
            ]
          },
          "metadata": {
            "tags": []
          },
          "execution_count": 25
        }
      ]
    },
    {
      "cell_type": "code",
      "metadata": {
        "colab_type": "code",
        "outputId": "90cfbeb2-e301-4aa7-86d4-18b6cdedd5e3",
        "id": "w05oSoX-3fZw",
        "colab": {
          "base_uri": "https://localhost:8080/",
          "height": 34
        }
      },
      "source": [
        "len(friends)"
      ],
      "execution_count": 0,
      "outputs": [
        {
          "output_type": "execute_result",
          "data": {
            "text/plain": [
              "4"
            ]
          },
          "metadata": {
            "tags": []
          },
          "execution_count": 26
        }
      ]
    },
    {
      "cell_type": "markdown",
      "metadata": {
        "colab_type": "text",
        "id": "BPe9kt0Z3etX"
      },
      "source": [
        "`sorted` returns a sorted version of a list:"
      ]
    },
    {
      "cell_type": "code",
      "metadata": {
        "colab_type": "code",
        "outputId": "fd7ef3b2-626e-4c9c-9352-8771099c65a5",
        "id": "l78Nm97n3d2-",
        "colab": {
          "base_uri": "https://localhost:8080/",
          "height": 34
        }
      },
      "source": [
        "sorted(friends, reverse=True)"
      ],
      "execution_count": 0,
      "outputs": [
        {
          "output_type": "execute_result",
          "data": {
            "text/plain": [
              "['Tom', 'Smanga', 'Sarah', 'Ali']"
            ]
          },
          "metadata": {
            "tags": []
          },
          "execution_count": 27
        }
      ]
    },
    {
      "cell_type": "markdown",
      "metadata": {
        "id": "HX4a1kcnpTSt",
        "colab_type": "text"
      },
      "source": [
        "`sum` does what you might expect:"
      ]
    },
    {
      "cell_type": "code",
      "metadata": {
        "id": "GhR14rfHpTSt",
        "colab_type": "code",
        "outputId": "70b7822d-9c3b-46d9-a895-59be2b521723",
        "colab": {
          "base_uri": "https://localhost:8080/",
          "height": 34
        }
      },
      "source": [
        "primes = [2, 3, 5, 7]\n",
        "sum(primes)"
      ],
      "execution_count": 0,
      "outputs": [
        {
          "output_type": "execute_result",
          "data": {
            "text/plain": [
              "17"
            ]
          },
          "metadata": {
            "tags": []
          },
          "execution_count": 28
        }
      ]
    },
    {
      "cell_type": "markdown",
      "metadata": {
        "id": "b1CR-7l3pTSv",
        "colab_type": "text"
      },
      "source": [
        "We've previously used the `min` and `max` to get the minimum or maximum of several arguments. But we can also pass in a single list argument."
      ]
    },
    {
      "cell_type": "code",
      "metadata": {
        "id": "30avsMkRpTSw",
        "colab_type": "code",
        "outputId": "f89989a0-9886-411f-b031-cb457d7280c4",
        "colab": {
          "base_uri": "https://localhost:8080/",
          "height": 34
        }
      },
      "source": [
        "max(primes)"
      ],
      "execution_count": 0,
      "outputs": [
        {
          "output_type": "execute_result",
          "data": {
            "text/plain": [
              "7"
            ]
          },
          "metadata": {
            "tags": []
          },
          "execution_count": 29
        }
      ]
    },
    {
      "cell_type": "markdown",
      "metadata": {
        "id": "1imV0HnK5z09",
        "colab_type": "text"
      },
      "source": [
        "#### Is Something in a list?\n",
        "* Python provides two operators that let you check if an item is in a list.\n",
        "* True or Fales logic operators"
      ]
    },
    {
      "cell_type": "code",
      "metadata": {
        "id": "vDY9FIKijOnt",
        "colab_type": "code",
        "outputId": "577cb723-236f-4252-927f-084b74082492",
        "colab": {
          "base_uri": "https://localhost:8080/",
          "height": 34
        }
      },
      "source": [
        "some = [1, 9, 21, 10, 16]\n",
        "9 in some"
      ],
      "execution_count": 0,
      "outputs": [
        {
          "output_type": "execute_result",
          "data": {
            "text/plain": [
              "True"
            ]
          },
          "metadata": {
            "tags": []
          },
          "execution_count": 30
        }
      ]
    },
    {
      "cell_type": "code",
      "metadata": {
        "id": "gYMMQyoMjTHi",
        "colab_type": "code",
        "outputId": "7b2c897c-2f39-431e-89cc-29b2cd7d8df0",
        "colab": {
          "base_uri": "https://localhost:8080/",
          "height": 34
        }
      },
      "source": [
        "15 in some\n"
      ],
      "execution_count": 0,
      "outputs": [
        {
          "output_type": "execute_result",
          "data": {
            "text/plain": [
              "False"
            ]
          },
          "metadata": {
            "tags": []
          },
          "execution_count": 31
        }
      ]
    },
    {
      "cell_type": "markdown",
      "metadata": {
        "id": "n_xczSH4pTS9",
        "colab_type": "text"
      },
      "source": [
        "## Build a list from scratch"
      ]
    },
    {
      "cell_type": "markdown",
      "metadata": {
        "id": "3y4opAR7pTS-",
        "colab_type": "text"
      },
      "source": [
        "`list.append` modifies a list by adding an item to the end:"
      ]
    },
    {
      "cell_type": "code",
      "metadata": {
        "id": "Get4v3EYr7hD",
        "colab_type": "code",
        "colab": {}
      },
      "source": [
        "stuff = []"
      ],
      "execution_count": 0,
      "outputs": []
    },
    {
      "cell_type": "code",
      "metadata": {
        "id": "njpn0F_m4vmz",
        "colab_type": "code",
        "outputId": "48957385-643e-45e4-be35-e00a78b806dd",
        "colab": {
          "base_uri": "https://localhost:8080/",
          "height": 34
        }
      },
      "source": [
        "stuff.append(\"book\")\n",
        "stuff.append(99)\n",
        "print(stuff)"
      ],
      "execution_count": 0,
      "outputs": [
        {
          "output_type": "stream",
          "text": [
            "['book', 99]\n"
          ],
          "name": "stdout"
        }
      ]
    },
    {
      "cell_type": "code",
      "metadata": {
        "id": "yrTf-vaspTS_",
        "colab_type": "code",
        "colab": {}
      },
      "source": [
        "stuff.append('cookie')"
      ],
      "execution_count": 0,
      "outputs": []
    },
    {
      "cell_type": "markdown",
      "metadata": {
        "id": "I0KQl-yGpTTA",
        "colab_type": "text"
      },
      "source": [
        "Why does the cell above have no output? Let's check the documentation by calling `help(stuff.append)`.\n",
        "\n",
        "> **Aside:** `append` is a method carried around by *all* objects of type list, not just `stuff`, so we also could have called `help(list.append)`. However, if we try to call `help(append)`, Python will complain that no variable exists called \"append\". The \"append\" name only exists within lists - it doesn't exist as a standalone name like builtin functions such as `max` or `len`."
      ]
    },
    {
      "cell_type": "code",
      "metadata": {
        "id": "cQDZid1ypTTB",
        "colab_type": "code",
        "outputId": "a31d0338-c82b-4c10-a683-3e65d3d5f32c",
        "colab": {
          "base_uri": "https://localhost:8080/",
          "height": 102
        }
      },
      "source": [
        "help(stuff.append)"
      ],
      "execution_count": 0,
      "outputs": [
        {
          "output_type": "stream",
          "text": [
            "Help on built-in function append:\n",
            "\n",
            "append(...) method of builtins.list instance\n",
            "    L.append(object) -> None -- append object to end\n",
            "\n"
          ],
          "name": "stdout"
        }
      ]
    },
    {
      "cell_type": "code",
      "metadata": {
        "id": "ZFOltM5L49bl",
        "colab_type": "code",
        "outputId": "60895365-c3ea-4f52-a894-5b2f18288e83",
        "colab": {
          "base_uri": "https://localhost:8080/",
          "height": 34
        }
      },
      "source": [
        "print(stuff)"
      ],
      "execution_count": 0,
      "outputs": [
        {
          "output_type": "stream",
          "text": [
            "['book', 99, 'cookie']\n"
          ],
          "name": "stdout"
        }
      ]
    },
    {
      "cell_type": "markdown",
      "metadata": {
        "id": "tiZt-cSbpTTF",
        "colab_type": "text"
      },
      "source": [
        "`list.pop` removes and returns the last element of a list:"
      ]
    },
    {
      "cell_type": "code",
      "metadata": {
        "id": "-AiLkOcTpTTG",
        "colab_type": "code",
        "outputId": "69a0e73b-5e3a-4732-e250-02d2598a8ac7",
        "colab": {
          "base_uri": "https://localhost:8080/",
          "height": 34
        }
      },
      "source": [
        "stuff.pop()"
      ],
      "execution_count": 0,
      "outputs": [
        {
          "output_type": "execute_result",
          "data": {
            "text/plain": [
              "'cookie'"
            ]
          },
          "metadata": {
            "tags": []
          },
          "execution_count": 38
        }
      ]
    },
    {
      "cell_type": "code",
      "metadata": {
        "id": "kTzMh8QbpTTH",
        "colab_type": "code",
        "outputId": "425f7cb2-a02f-4b15-96c8-bd9abd37a2be",
        "colab": {
          "base_uri": "https://localhost:8080/",
          "height": 34
        }
      },
      "source": [
        "stuff"
      ],
      "execution_count": 0,
      "outputs": [
        {
          "output_type": "execute_result",
          "data": {
            "text/plain": [
              "['book', 99]"
            ]
          },
          "metadata": {
            "tags": []
          },
          "execution_count": 39
        }
      ]
    },
    {
      "cell_type": "markdown",
      "metadata": {
        "id": "nku1swdopTTJ",
        "colab_type": "text"
      },
      "source": [
        "### Searching lists\n",
        "\n",
        "Where does book fall in the order of stuff? We can get its index using the `list.index` method."
      ]
    },
    {
      "cell_type": "code",
      "metadata": {
        "id": "_TdNt_IO6oKa",
        "colab_type": "code",
        "outputId": "86bff056-2ce2-4f4b-ba4d-0e0366cbe2e4",
        "colab": {
          "base_uri": "https://localhost:8080/",
          "height": 34
        }
      },
      "source": [
        "stuff.append('Headphones')\n",
        "stuff.append('SmartPhone')\n",
        "print(stuff)"
      ],
      "execution_count": 0,
      "outputs": [
        {
          "output_type": "stream",
          "text": [
            "['book', 99, 'Headphones', 'SmartPhone']\n"
          ],
          "name": "stdout"
        }
      ]
    },
    {
      "cell_type": "code",
      "metadata": {
        "id": "doRZyYnCpTTJ",
        "colab_type": "code",
        "outputId": "3ead31eb-92eb-4699-f300-4152c99c3bd1",
        "colab": {
          "base_uri": "https://localhost:8080/",
          "height": 34
        }
      },
      "source": [
        "stuff.index('book')"
      ],
      "execution_count": 0,
      "outputs": [
        {
          "output_type": "execute_result",
          "data": {
            "text/plain": [
              "0"
            ]
          },
          "metadata": {
            "tags": []
          },
          "execution_count": 44
        }
      ]
    },
    {
      "cell_type": "code",
      "metadata": {
        "id": "pzbcD5jfm550",
        "colab_type": "code",
        "outputId": "e2ce85ce-e760-4ab9-b8ca-d811203e3835",
        "colab": {
          "base_uri": "https://localhost:8080/",
          "height": 119
        }
      },
      "source": [
        "help(stuff.index)"
      ],
      "execution_count": 0,
      "outputs": [
        {
          "output_type": "stream",
          "text": [
            "Help on built-in function index:\n",
            "\n",
            "index(...) method of builtins.list instance\n",
            "    L.index(value, [start, [stop]]) -> integer -- return first index of value.\n",
            "    Raises ValueError if the value is not present.\n",
            "\n"
          ],
          "name": "stdout"
        }
      ]
    },
    {
      "cell_type": "code",
      "metadata": {
        "id": "bIPKjp5ApTTM",
        "colab_type": "code",
        "outputId": "312ba597-6736-4550-dc8e-0ed181a133cd",
        "colab": {
          "base_uri": "https://localhost:8080/",
          "height": 34
        }
      },
      "source": [
        "stuff.index('SmartPhone')"
      ],
      "execution_count": 0,
      "outputs": [
        {
          "output_type": "execute_result",
          "data": {
            "text/plain": [
              "3"
            ]
          },
          "metadata": {
            "tags": []
          },
          "execution_count": 46
        }
      ]
    },
    {
      "cell_type": "markdown",
      "metadata": {
        "id": "qz6E1GfJpTTY",
        "colab_type": "text"
      },
      "source": [
        "## Tuples\n",
        "\n",
        "Tuples are almost exactly the same as lists. They differ in just two ways.\n",
        "\n",
        "**1:** The syntax for creating them uses (optional) parentheses rather than square brackets"
      ]
    },
    {
      "cell_type": "code",
      "metadata": {
        "id": "xEgCcF-upTTZ",
        "colab_type": "code",
        "colab": {}
      },
      "source": [
        "t = (1, 2, 3)"
      ],
      "execution_count": 0,
      "outputs": []
    },
    {
      "cell_type": "code",
      "metadata": {
        "id": "XP2thmyZpTTn",
        "colab_type": "code",
        "outputId": "bd9295c8-c3c0-45eb-cf18-9da9b8acec65",
        "colab": {
          "base_uri": "https://localhost:8080/",
          "height": 34
        }
      },
      "source": [
        "t = 1, 2, 3 # equivalent to above\n",
        "t"
      ],
      "execution_count": 0,
      "outputs": [
        {
          "output_type": "execute_result",
          "data": {
            "text/plain": [
              "(1, 2, 3)"
            ]
          },
          "metadata": {
            "tags": []
          },
          "execution_count": 48
        }
      ]
    },
    {
      "cell_type": "markdown",
      "metadata": {
        "id": "x3HJi4RKpTTp",
        "colab_type": "text"
      },
      "source": [
        "**2:** They cannot be modified (they are *immutable*)."
      ]
    },
    {
      "cell_type": "code",
      "metadata": {
        "id": "qg_jVPS3pTTp",
        "colab_type": "code",
        "outputId": "ec755a4a-00b7-414a-9b67-b2da4acedbdc",
        "colab": {
          "base_uri": "https://localhost:8080/",
          "height": 164
        }
      },
      "source": [
        "t[0] = 100"
      ],
      "execution_count": 0,
      "outputs": [
        {
          "output_type": "error",
          "ename": "TypeError",
          "evalue": "ignored",
          "traceback": [
            "\u001b[0;31m---------------------------------------------------------------------------\u001b[0m",
            "\u001b[0;31mTypeError\u001b[0m                                 Traceback (most recent call last)",
            "\u001b[0;32m<ipython-input-49-e6cf7836e708>\u001b[0m in \u001b[0;36m<module>\u001b[0;34m()\u001b[0m\n\u001b[0;32m----> 1\u001b[0;31m \u001b[0mt\u001b[0m\u001b[0;34m[\u001b[0m\u001b[0;36m0\u001b[0m\u001b[0;34m]\u001b[0m \u001b[0;34m=\u001b[0m \u001b[0;36m100\u001b[0m\u001b[0;34m\u001b[0m\u001b[0;34m\u001b[0m\u001b[0m\n\u001b[0m",
            "\u001b[0;31mTypeError\u001b[0m: 'tuple' object does not support item assignment"
          ]
        }
      ]
    },
    {
      "cell_type": "markdown",
      "metadata": {
        "id": "54YjR5LXpTTr",
        "colab_type": "text"
      },
      "source": [
        "Tuples are often used for functions that have multiple return values.\n",
        "\n",
        "For example, the ``as_integer_ratio()`` method of float objects returns a numerator and a denominator in the form of a tuple:"
      ]
    },
    {
      "cell_type": "code",
      "metadata": {
        "id": "nHslkgC6pTTs",
        "colab_type": "code",
        "outputId": "40205e03-cf10-4a8c-f905-48d2b9fbc05c",
        "colab": {
          "base_uri": "https://localhost:8080/",
          "height": 34
        }
      },
      "source": [
        "x = 0.125\n",
        "x.as_integer_ratio()"
      ],
      "execution_count": 0,
      "outputs": [
        {
          "output_type": "execute_result",
          "data": {
            "text/plain": [
              "(1, 8)"
            ]
          },
          "metadata": {
            "tags": []
          },
          "execution_count": 50
        }
      ]
    },
    {
      "cell_type": "code",
      "metadata": {
        "id": "MvC9-JMQtt1J",
        "colab_type": "code",
        "outputId": "50d24aca-db24-4fc8-f203-15001915c93a",
        "colab": {
          "base_uri": "https://localhost:8080/",
          "height": 34
        }
      },
      "source": [
        "1/8"
      ],
      "execution_count": 0,
      "outputs": [
        {
          "output_type": "execute_result",
          "data": {
            "text/plain": [
              "0.125"
            ]
          },
          "metadata": {
            "tags": []
          },
          "execution_count": 51
        }
      ]
    },
    {
      "cell_type": "markdown",
      "metadata": {
        "id": "VnvCKtfIpTTu",
        "colab_type": "text"
      },
      "source": [
        "These multiple return values can be individually assigned as follows:"
      ]
    },
    {
      "cell_type": "code",
      "metadata": {
        "id": "BfCoNKGlpTTu",
        "colab_type": "code",
        "outputId": "c82453d8-df8c-48f1-9e9c-c222f7931817",
        "colab": {
          "base_uri": "https://localhost:8080/",
          "height": 34
        }
      },
      "source": [
        "numerator, denominator = x.as_integer_ratio()\n",
        "print(numerator / denominator)"
      ],
      "execution_count": 0,
      "outputs": [
        {
          "output_type": "stream",
          "text": [
            "0.125\n"
          ],
          "name": "stdout"
        }
      ]
    },
    {
      "cell_type": "markdown",
      "metadata": {
        "id": "o-MqiDikpTTw",
        "colab_type": "text"
      },
      "source": [
        "Finally we have some insight into the classic Stupid Python Trick™ for swapping two variables!"
      ]
    },
    {
      "cell_type": "code",
      "metadata": {
        "id": "3soElJpGpTTx",
        "colab_type": "code",
        "outputId": "10e1a9f5-4f69-474d-aa05-36e71703db3d",
        "colab": {
          "base_uri": "https://localhost:8080/",
          "height": 34
        }
      },
      "source": [
        "a = 1\n",
        "b = 0\n",
        "a, b = b, a\n",
        "print(a, b)"
      ],
      "execution_count": 0,
      "outputs": [
        {
          "output_type": "stream",
          "text": [
            "0 1\n"
          ],
          "name": "stdout"
        }
      ]
    },
    {
      "cell_type": "markdown",
      "metadata": {
        "id": "hPsNDTH_7MUz",
        "colab_type": "text"
      },
      "source": [
        "## Strings and Lists"
      ]
    },
    {
      "cell_type": "code",
      "metadata": {
        "id": "oZ3MRK7E7QVc",
        "colab_type": "code",
        "colab": {}
      },
      "source": [
        "abc = 'With three worlds'"
      ],
      "execution_count": 0,
      "outputs": []
    },
    {
      "cell_type": "markdown",
      "metadata": {
        "id": "v3zH2A2P7WL3",
        "colab_type": "text"
      },
      "source": [
        "convert a string to list of words"
      ]
    },
    {
      "cell_type": "code",
      "metadata": {
        "id": "6WPhLfmN7U6z",
        "colab_type": "code",
        "colab": {}
      },
      "source": [
        "list_of_words = abc.split()"
      ],
      "execution_count": 0,
      "outputs": []
    },
    {
      "cell_type": "code",
      "metadata": {
        "id": "nDBM_KEm7UC8",
        "colab_type": "code",
        "outputId": "7d2a5539-e49f-4096-c731-53f763d99e01",
        "colab": {
          "base_uri": "https://localhost:8080/",
          "height": 34
        }
      },
      "source": [
        "list_of_words"
      ],
      "execution_count": 0,
      "outputs": [
        {
          "output_type": "execute_result",
          "data": {
            "text/plain": [
              "['With', 'three', 'worlds']"
            ]
          },
          "metadata": {
            "tags": []
          },
          "execution_count": 57
        }
      ]
    },
    {
      "cell_type": "code",
      "metadata": {
        "id": "9117zZHd7hT7",
        "colab_type": "code",
        "outputId": "cb3b715f-073a-4716-ee39-2f3cea7844b1",
        "colab": {
          "base_uri": "https://localhost:8080/",
          "height": 34
        }
      },
      "source": [
        "print(len(list_of_words))"
      ],
      "execution_count": 0,
      "outputs": [
        {
          "output_type": "stream",
          "text": [
            "3\n"
          ],
          "name": "stdout"
        }
      ]
    },
    {
      "cell_type": "code",
      "metadata": {
        "id": "m5rqK6ii7lQy",
        "colab_type": "code",
        "outputId": "b9f538ad-0505-40c5-c189-3f8ed3795330",
        "colab": {
          "base_uri": "https://localhost:8080/",
          "height": 34
        }
      },
      "source": [
        "print(list_of_words[0])"
      ],
      "execution_count": 0,
      "outputs": [
        {
          "output_type": "stream",
          "text": [
            "With\n"
          ],
          "name": "stdout"
        }
      ]
    },
    {
      "cell_type": "code",
      "metadata": {
        "id": "4U0ESvRQ7n-y",
        "colab_type": "code",
        "colab": {}
      },
      "source": [
        "line = 'A lot             of spaces'"
      ],
      "execution_count": 0,
      "outputs": []
    },
    {
      "cell_type": "code",
      "metadata": {
        "id": "Wdh5dRWH8EvW",
        "colab_type": "code",
        "colab": {}
      },
      "source": [
        "etc = line.split()"
      ],
      "execution_count": 0,
      "outputs": []
    },
    {
      "cell_type": "code",
      "metadata": {
        "id": "AhnA-5ew8Ht-",
        "colab_type": "code",
        "outputId": "d83f1559-186a-4955-f753-34435b76153b",
        "colab": {
          "base_uri": "https://localhost:8080/",
          "height": 34
        }
      },
      "source": [
        "print(etc)"
      ],
      "execution_count": 0,
      "outputs": [
        {
          "output_type": "stream",
          "text": [
            "['A', 'lot', 'of', 'spaces']\n"
          ],
          "name": "stdout"
        }
      ]
    },
    {
      "cell_type": "markdown",
      "metadata": {
        "id": "8vlGmDLy8LSy",
        "colab_type": "text"
      },
      "source": [
        "When you do not specify a delimiter, multiple spaces are trated like \"one\" delimiter."
      ]
    },
    {
      "cell_type": "code",
      "metadata": {
        "id": "vDvNcAt58Iw2",
        "colab_type": "code",
        "outputId": "64d2bf0c-e198-4be9-de7f-d516c8038244",
        "colab": {
          "base_uri": "https://localhost:8080/",
          "height": 51
        }
      },
      "source": [
        "line = 'first;second;third'\n",
        "thing = line.split()\n",
        "print(thing)\n",
        "print(len(thing))"
      ],
      "execution_count": 0,
      "outputs": [
        {
          "output_type": "stream",
          "text": [
            "['first;second;third']\n",
            "1\n"
          ],
          "name": "stdout"
        }
      ]
    },
    {
      "cell_type": "markdown",
      "metadata": {
        "id": "VVPqpG_p8nUw",
        "colab_type": "text"
      },
      "source": [
        "You can specify what delimiter character to use in the splitting."
      ]
    },
    {
      "cell_type": "code",
      "metadata": {
        "id": "r70qDU4O8l6y",
        "colab_type": "code",
        "outputId": "e02ca874-62ce-4d1c-f837-c1a80b2cc5f9",
        "colab": {
          "base_uri": "https://localhost:8080/",
          "height": 51
        }
      },
      "source": [
        "thing = line.split(\";\")\n",
        "print(thing)\n",
        "print(len(thing))"
      ],
      "execution_count": 0,
      "outputs": [
        {
          "output_type": "stream",
          "text": [
            "['first', 'second', 'third']\n",
            "3\n"
          ],
          "name": "stdout"
        }
      ]
    },
    {
      "cell_type": "code",
      "metadata": {
        "id": "q5_rXPLb8z_A",
        "colab_type": "code",
        "colab": {}
      },
      "source": [
        ""
      ],
      "execution_count": 0,
      "outputs": []
    }
  ]
}