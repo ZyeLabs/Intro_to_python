{
  "nbformat": 4,
  "nbformat_minor": 0,
  "metadata": {
    "colab": {
      "name": "Lesson_5_Loop.ipynb",
      "provenance": [],
      "collapsed_sections": [],
      "include_colab_link": true
    },
    "kernelspec": {
      "display_name": "Python 3",
      "language": "python",
      "name": "python3"
    }
  },
  "cells": [
    {
      "cell_type": "markdown",
      "metadata": {
        "id": "view-in-github",
        "colab_type": "text"
      },
      "source": [
        "<a href=\"https://colab.research.google.com/github/abuobayda/Intro_to_python/blob/master/Lesson_5_Loop.ipynb\" target=\"_parent\"><img src=\"https://colab.research.google.com/assets/colab-badge.svg\" alt=\"Open In Colab\"/></a>"
      ]
    },
    {
      "cell_type": "markdown",
      "metadata": {
        "id": "mScUIkld0thw",
        "colab_type": "text"
      },
      "source": [
        "# Loops\n",
        "\n",
        "Loops are a way to repeatedly execute some code statement."
      ]
    },
    {
      "cell_type": "markdown",
      "metadata": {
        "id": "9ZvxPSjzAQ8R",
        "colab_type": "text"
      },
      "source": [
        "## While loop"
      ]
    },
    {
      "cell_type": "markdown",
      "metadata": {
        "id": "nA5_Kh-NAgMt",
        "colab_type": "text"
      },
      "source": [
        "While loops are called **\"indefinite loops\"** because they keep going until a logical condition becomes **False**."
      ]
    },
    {
      "cell_type": "code",
      "metadata": {
        "id": "LKymSvtn92LI",
        "colab_type": "code",
        "colab": {}
      },
      "source": [
        "# while syntax\n",
        "# if the condition is true then repeate otherwise stop\n",
        "while condition:\n",
        "  # body --> the code you want to repeat\n",
        "  # counter--> to make sure this loop doesnot run forever"
      ],
      "execution_count": 0,
      "outputs": []
    },
    {
      "cell_type": "markdown",
      "metadata": {
        "id": "4o8rwaJJ-sf5",
        "colab_type": "text"
      },
      "source": [
        "An Infinite Loop!"
      ]
    },
    {
      "cell_type": "markdown",
      "metadata": {
        "id": "0UpYxW9J-y7y",
        "colab_type": "text"
      },
      "source": [
        "What is wrong with this loop?"
      ]
    },
    {
      "cell_type": "code",
      "metadata": {
        "id": "U3A_kqE8-kgB",
        "colab_type": "code",
        "colab": {}
      },
      "source": [
        "n = 5\n",
        "while n > 0:\n",
        "  print(n)\n",
        "print('Done')"
      ],
      "execution_count": 0,
      "outputs": []
    },
    {
      "cell_type": "code",
      "metadata": {
        "id": "Xc55IvG39gbh",
        "colab_type": "code",
        "outputId": "fe142c88-4969-4448-a1f8-0d7f4bafad07",
        "colab": {
          "base_uri": "https://localhost:8080/",
          "height": 136
        }
      },
      "source": [
        "n = 5\n",
        "while n > 0:\n",
        "  print(n)\n",
        "  n = n -1\n",
        "print('Blastoff')\n",
        "print(n)"
      ],
      "execution_count": 0,
      "outputs": [
        {
          "output_type": "stream",
          "text": [
            "5\n",
            "4\n",
            "3\n",
            "2\n",
            "1\n",
            "Blastoff\n",
            "0\n"
          ],
          "name": "stdout"
        }
      ]
    },
    {
      "cell_type": "markdown",
      "metadata": {
        "id": "f1pfX7uV_C2n",
        "colab_type": "text"
      },
      "source": [
        "### Breaking out of a loop\n",
        "* The **break** statement ends the current loop and jumps to the statement immediately following the loop \n",
        "* It is like a loop test that can happen anywhere in the body of the loop"
      ]
    },
    {
      "cell_type": "code",
      "metadata": {
        "id": "Zxuboi6b9zhl",
        "colab_type": "code",
        "outputId": "dfdf6a5d-0d23-4a3c-ebc3-74fc39187aaf",
        "colab": {
          "base_uri": "https://localhost:8080/",
          "height": 119
        }
      },
      "source": [
        "while True:\n",
        "  line = input('> ')\n",
        "  if line == 'done':\n",
        "    break\n",
        "  print(line)\n",
        "print('Done')"
      ],
      "execution_count": 0,
      "outputs": [
        {
          "output_type": "stream",
          "text": [
            "> hi\n",
            "hi\n",
            "> hello\n",
            "hello\n",
            "> done\n",
            "Done\n"
          ],
          "name": "stdout"
        }
      ]
    },
    {
      "cell_type": "markdown",
      "metadata": {
        "id": "4YoDi3mS_gc8",
        "colab_type": "text"
      },
      "source": [
        "### Continue keywords\n",
        "* The **continue** statement ends the current iteration and jumps to the top of the loop and starts the next iteration (ignore condition)"
      ]
    },
    {
      "cell_type": "code",
      "metadata": {
        "id": "EhwzHz1w_vF5",
        "colab_type": "code",
        "outputId": "0483f025-9d12-4c35-aea8-237202d8f298",
        "colab": {
          "base_uri": "https://localhost:8080/",
          "height": 102
        }
      },
      "source": [
        "while True:\n",
        "  line = input('> ')\n",
        "  if line[0]=='#':\n",
        "    continue\n",
        "  if line =='done':\n",
        "    break\n",
        "  print(line)\n",
        "print('Done')"
      ],
      "execution_count": 0,
      "outputs": [
        {
          "output_type": "stream",
          "text": [
            "> hello\n",
            "hello\n",
            "> # dont print this\n",
            "> done\n",
            "Done\n"
          ],
          "name": "stdout"
        }
      ]
    },
    {
      "cell_type": "markdown",
      "metadata": {
        "id": "lGzw3KkMAr-4",
        "colab_type": "text"
      },
      "source": [
        "## for Loop\n",
        "for loops are called **\"definite loops\"** because they execute an exact number of times."
      ]
    },
    {
      "cell_type": "code",
      "metadata": {
        "id": "w1kElVFHBE5w",
        "colab_type": "code",
        "outputId": "fc885ede-7b80-47cc-82b9-31edd10ab3e0",
        "colab": {
          "base_uri": "https://localhost:8080/",
          "height": 119
        }
      },
      "source": [
        "for i in [5, 4, 3, 2, 1]:\n",
        "  print(i)\n",
        "print('BlastOff')"
      ],
      "execution_count": 0,
      "outputs": [
        {
          "output_type": "stream",
          "text": [
            "5\n",
            "4\n",
            "3\n",
            "2\n",
            "1\n",
            "BlastOff\n"
          ],
          "name": "stdout"
        }
      ]
    },
    {
      "cell_type": "code",
      "metadata": {
        "id": "HniOpfHiBRXx",
        "colab_type": "code",
        "outputId": "4210f8ba-06c3-47b4-d34d-02139828e3a0",
        "colab": {
          "base_uri": "https://localhost:8080/",
          "height": 102
        }
      },
      "source": [
        "friends = ['Smanga', 'Ali', 'Sarah', 'Tom']\n",
        "for friend in friends:\n",
        "  print('Happy New Year: ', friend)\n",
        "\n",
        "print('Done')"
      ],
      "execution_count": 0,
      "outputs": [
        {
          "output_type": "stream",
          "text": [
            "Happy New Year:  Smanga\n",
            "Happy New Year:  Ali\n",
            "Happy New Year:  Sarah\n",
            "Happy New Year:  Tom\n",
            "Done\n"
          ],
          "name": "stdout"
        }
      ]
    },
    {
      "cell_type": "markdown",
      "metadata": {
        "id": "cDGGEbbABlbX",
        "colab_type": "text"
      },
      "source": [
        "'i' and 'friend' are called iteration variables that change each time through a loop."
      ]
    },
    {
      "cell_type": "code",
      "metadata": {
        "id": "XleeUkk90thy",
        "colab_type": "code",
        "outputId": "8c81d1b9-c960-4ac9-ef60-031f3c10bdd1",
        "colab": {
          "base_uri": "https://localhost:8080/",
          "height": 34
        }
      },
      "source": [
        "planets = ['Mercury', 'Venus', 'Earth', 'Mars', 'Jupiter', 'Saturn', 'Uranus', 'Neptune']\n",
        "for planet in planets:\n",
        "    print(planet, end=' ') # print all on same line"
      ],
      "execution_count": 0,
      "outputs": [
        {
          "output_type": "stream",
          "text": [
            "Mercury Venus Earth Mars Jupiter Saturn Uranus Neptune "
          ],
          "name": "stdout"
        }
      ]
    },
    {
      "cell_type": "code",
      "metadata": {
        "id": "qiqgoQRI0th2",
        "colab_type": "code",
        "outputId": "1faddaea-3479-42b1-e40d-992c4857e060",
        "colab": {
          "base_uri": "https://localhost:8080/",
          "height": 34
        }
      },
      "source": [
        "multiplicands = (2, 2, 2, 3, 3, 5)\n",
        "product = 1\n",
        "for mult in multiplicands:\n",
        "    product = product * mult\n",
        "product"
      ],
      "execution_count": 0,
      "outputs": [
        {
          "output_type": "execute_result",
          "data": {
            "text/plain": [
              "360"
            ]
          },
          "metadata": {
            "tags": []
          },
          "execution_count": 2
        }
      ]
    },
    {
      "cell_type": "markdown",
      "metadata": {
        "id": "l9KyLYtX0th5",
        "colab_type": "text"
      },
      "source": [
        "And even iterate over each character in a string:"
      ]
    },
    {
      "cell_type": "code",
      "metadata": {
        "id": "lDfIxgq10th6",
        "colab_type": "code",
        "outputId": "1b3c5084-ed11-4253-dd77-ec1975763395",
        "colab": {
          "base_uri": "https://localhost:8080/",
          "height": 34
        }
      },
      "source": [
        "s = 'steganograpHy is the practicE of conceaLing a file, message, image, or video within another fiLe, message, image, Or video.'\n",
        "msg = ''\n",
        "# print all the uppercase letters in s, one at a time\n",
        "for char in s:\n",
        "    if char.isupper():\n",
        "        print(char, end='')        "
      ],
      "execution_count": 0,
      "outputs": [
        {
          "output_type": "stream",
          "text": [
            "HELLO"
          ],
          "name": "stdout"
        }
      ]
    },
    {
      "cell_type": "markdown",
      "metadata": {
        "id": "uabp5BRe0th8",
        "colab_type": "text"
      },
      "source": [
        "### range()\n",
        "\n",
        "\n",
        "`range()` is a function that returns a sequence of numbers. It turns out to be very useful for writing loops.\n",
        "\n",
        "For example, if we want to repeat some action 5 times:"
      ]
    },
    {
      "cell_type": "code",
      "metadata": {
        "id": "mXpAWtzG0th9",
        "colab_type": "code",
        "outputId": "4c18b836-1920-40e7-9447-81499096079b",
        "colab": {
          "base_uri": "https://localhost:8080/",
          "height": 102
        }
      },
      "source": [
        "for i in range(5):\n",
        "    print(\"Doing important work. i =\", i)"
      ],
      "execution_count": 0,
      "outputs": [
        {
          "output_type": "stream",
          "text": [
            "Doing important work. i = 0\n",
            "Doing important work. i = 1\n",
            "Doing important work. i = 2\n",
            "Doing important work. i = 3\n",
            "Doing important work. i = 4\n"
          ],
          "name": "stdout"
        }
      ]
    },
    {
      "cell_type": "markdown",
      "metadata": {
        "id": "ahOOsnfp0tiA",
        "colab_type": "text"
      },
      "source": [
        "You might assume that `range(5)` returns the list `[0, 1, 2, 3, 4]`. The truth is a little bit more complicated:"
      ]
    },
    {
      "cell_type": "code",
      "metadata": {
        "id": "GXgfoPD40tiB",
        "colab_type": "code",
        "outputId": "23cbc444-e597-4706-c52b-4a33fa256204",
        "colab": {
          "base_uri": "https://localhost:8080/",
          "height": 34
        }
      },
      "source": [
        "r = range(5)\n",
        "list(r)"
      ],
      "execution_count": 0,
      "outputs": [
        {
          "output_type": "execute_result",
          "data": {
            "text/plain": [
              "[0, 1, 2, 3, 4]"
            ]
          },
          "metadata": {
            "tags": []
          },
          "execution_count": 9
        }
      ]
    },
    {
      "cell_type": "markdown",
      "metadata": {
        "id": "aFtECMl60tiD",
        "colab_type": "text"
      },
      "source": [
        "`range` returns a \"range object\". It acts a lot like a list (it's iterable), but doesn't have all the same capabilities. As we saw in the [previous tutorial](https://www.kaggle.com/colinmorris/lists), we can call `help()` on an object like `r` to see Python's documentation on that object, including all of its methods. Click the 'output' button if you're curious about what the help page for a range object looks like."
      ]
    },
    {
      "cell_type": "code",
      "metadata": {
        "id": "uLzI3kjz0tiE",
        "colab_type": "code",
        "outputId": "b1c05325-12b1-4d16-af65-ef96e01dd888",
        "colab": {
          "base_uri": "https://localhost:8080/",
          "height": 1394
        }
      },
      "source": [
        "help(range)"
      ],
      "execution_count": 0,
      "outputs": [
        {
          "output_type": "stream",
          "text": [
            "Help on class range in module builtins:\n",
            "\n",
            "class range(object)\n",
            " |  range(stop) -> range object\n",
            " |  range(start, stop[, step]) -> range object\n",
            " |  \n",
            " |  Return an object that produces a sequence of integers from start (inclusive)\n",
            " |  to stop (exclusive) by step.  range(i, j) produces i, i+1, i+2, ..., j-1.\n",
            " |  start defaults to 0, and stop is omitted!  range(4) produces 0, 1, 2, 3.\n",
            " |  These are exactly the valid indices for a list of 4 elements.\n",
            " |  When step is given, it specifies the increment (or decrement).\n",
            " |  \n",
            " |  Methods defined here:\n",
            " |  \n",
            " |  __bool__(self, /)\n",
            " |      self != 0\n",
            " |  \n",
            " |  __contains__(self, key, /)\n",
            " |      Return key in self.\n",
            " |  \n",
            " |  __eq__(self, value, /)\n",
            " |      Return self==value.\n",
            " |  \n",
            " |  __ge__(self, value, /)\n",
            " |      Return self>=value.\n",
            " |  \n",
            " |  __getattribute__(self, name, /)\n",
            " |      Return getattr(self, name).\n",
            " |  \n",
            " |  __getitem__(self, key, /)\n",
            " |      Return self[key].\n",
            " |  \n",
            " |  __gt__(self, value, /)\n",
            " |      Return self>value.\n",
            " |  \n",
            " |  __hash__(self, /)\n",
            " |      Return hash(self).\n",
            " |  \n",
            " |  __iter__(self, /)\n",
            " |      Implement iter(self).\n",
            " |  \n",
            " |  __le__(self, value, /)\n",
            " |      Return self<=value.\n",
            " |  \n",
            " |  __len__(self, /)\n",
            " |      Return len(self).\n",
            " |  \n",
            " |  __lt__(self, value, /)\n",
            " |      Return self<value.\n",
            " |  \n",
            " |  __ne__(self, value, /)\n",
            " |      Return self!=value.\n",
            " |  \n",
            " |  __new__(*args, **kwargs) from builtins.type\n",
            " |      Create and return a new object.  See help(type) for accurate signature.\n",
            " |  \n",
            " |  __reduce__(...)\n",
            " |      helper for pickle\n",
            " |  \n",
            " |  __repr__(self, /)\n",
            " |      Return repr(self).\n",
            " |  \n",
            " |  __reversed__(...)\n",
            " |      Return a reverse iterator.\n",
            " |  \n",
            " |  count(...)\n",
            " |      rangeobject.count(value) -> integer -- return number of occurrences of value\n",
            " |  \n",
            " |  index(...)\n",
            " |      rangeobject.index(value, [start, [stop]]) -> integer -- return index of value.\n",
            " |      Raise ValueError if the value is not present.\n",
            " |  \n",
            " |  ----------------------------------------------------------------------\n",
            " |  Data descriptors defined here:\n",
            " |  \n",
            " |  start\n",
            " |  \n",
            " |  step\n",
            " |  \n",
            " |  stop\n",
            "\n"
          ],
          "name": "stdout"
        }
      ]
    },
    {
      "cell_type": "markdown",
      "metadata": {
        "id": "HSq7JpCX0tiG",
        "colab_type": "text"
      },
      "source": [
        "Just as we can use `int()`, `float()`, and `bool()` to convert objects to another type, we can use `list()` to convert a list-like thing into a list, which shows a more familiar (and useful) representation:"
      ]
    },
    {
      "cell_type": "code",
      "metadata": {
        "id": "T1XD8NGV0tiH",
        "colab_type": "code",
        "outputId": "8e95dfad-2a9e-434e-9c2c-1846ce0692b6",
        "colab": {
          "base_uri": "https://localhost:8080/",
          "height": 34
        }
      },
      "source": [
        "list(range(5))"
      ],
      "execution_count": 0,
      "outputs": [
        {
          "output_type": "execute_result",
          "data": {
            "text/plain": [
              "[0, 1, 2, 3, 4]"
            ]
          },
          "metadata": {
            "tags": []
          },
          "execution_count": 7
        }
      ]
    },
    {
      "cell_type": "markdown",
      "metadata": {
        "id": "CG0D3b250tiK",
        "colab_type": "text"
      },
      "source": [
        "Note that the range starts at zero, and that by convention the top of the range is not included in the output. `range(5)` gives the numbers from 0 up to *but not including* 5. \n",
        "\n",
        "This may seem like a strange way to do things, but the documentation (accessed via `help(range)`) alludes to the reasoning when it says:\n",
        "\n",
        "> `range(4)` produces 0, 1, 2, 3.  These are exactly the valid indices for a list of 4 elements.  \n",
        "\n",
        "So for any list `L`, `for i in range(len(L)):` will iterate over all its valid indices."
      ]
    },
    {
      "cell_type": "code",
      "metadata": {
        "id": "62l3YmX00tiL",
        "colab_type": "code",
        "outputId": "367f29ac-c595-479e-b182-2a6d67e4bee4",
        "colab": {
          "base_uri": "https://localhost:8080/",
          "height": 34
        }
      },
      "source": [
        "nums = [1, 2, 4, 8, 16]\n",
        "for i in range(len(nums)):\n",
        "    nums[i] = nums[i] * 2\n",
        "nums"
      ],
      "execution_count": 0,
      "outputs": [
        {
          "output_type": "execute_result",
          "data": {
            "text/plain": [
              "[2, 4, 8, 16, 32]"
            ]
          },
          "metadata": {
            "tags": []
          },
          "execution_count": 10
        }
      ]
    },
    {
      "cell_type": "markdown",
      "metadata": {
        "id": "c3PBC2e50tiO",
        "colab_type": "text"
      },
      "source": [
        "This is the classic way of iterating over the indices of a list or other sequence.\n",
        "\n",
        "> **Aside**: `for i in range(len(L)):` is analogous to constructs like `for (int i = 0; i < L.length; i++)` in other languages."
      ]
    },
    {
      "cell_type": "markdown",
      "metadata": {
        "id": "_WxGnFEK0tiQ",
        "colab_type": "text"
      },
      "source": [
        "### `enumerate`\n",
        "\n",
        "`for foo in x` loops over the elements of a list and `for i in range(len(x))` loops over the indices of a list. What if you want to do both?\n",
        "\n",
        "Enter the `enumerate` function, one of Python's hidden gems:"
      ]
    },
    {
      "cell_type": "code",
      "metadata": {
        "id": "0A1z3snR0tiR",
        "colab_type": "code",
        "outputId": "8f7661b4-84f7-4887-bdb1-a9821d493165",
        "colab": {
          "base_uri": "https://localhost:8080/",
          "height": 34
        }
      },
      "source": [
        "def double_odds(nums):\n",
        "    for i, num in enumerate(nums):\n",
        "        if num % 2 == 1:\n",
        "            nums[i] = num * 2\n",
        "\n",
        "x = list(range(10))\n",
        "double_odds(x)\n",
        "x"
      ],
      "execution_count": 0,
      "outputs": [
        {
          "output_type": "execute_result",
          "data": {
            "text/plain": [
              "[0, 2, 2, 6, 4, 10, 6, 14, 8, 18]"
            ]
          },
          "metadata": {
            "tags": []
          },
          "execution_count": 11
        }
      ]
    },
    {
      "cell_type": "markdown",
      "metadata": {
        "id": "MZPjYKGP0tiU",
        "colab_type": "text"
      },
      "source": [
        "Given a list, `enumerate` returns an object which iterates over the indices *and* the values of the list.\n",
        "\n",
        "(Like the `range()` function, it returns an iterable object. To see its contents as a list, we can call `list()` on it.)"
      ]
    },
    {
      "cell_type": "code",
      "metadata": {
        "id": "nUedBHpu0tiV",
        "colab_type": "code",
        "outputId": "0ceeff52-de6d-43be-fd8d-3c04ce999057",
        "colab": {
          "base_uri": "https://localhost:8080/",
          "height": 34
        }
      },
      "source": [
        "list(enumerate(['a', 'b']))"
      ],
      "execution_count": 0,
      "outputs": [
        {
          "output_type": "execute_result",
          "data": {
            "text/plain": [
              "[(0, 'a'), (1, 'b')]"
            ]
          },
          "metadata": {
            "tags": []
          },
          "execution_count": 12
        }
      ]
    },
    {
      "cell_type": "markdown",
      "metadata": {
        "id": "8hUWv4sL0tiZ",
        "colab_type": "text"
      },
      "source": [
        "We can see that that the things we were iterating over are tuples. This helps explain that `for i, num` syntax. We're \"unpacking\" the tuple, just like in this example from the previous tutorial:"
      ]
    },
    {
      "cell_type": "code",
      "metadata": {
        "id": "2Lia6PyN0tiZ",
        "colab_type": "code",
        "colab": {}
      },
      "source": [
        "x = 0.125\n",
        "numerator, denominator = x.as_integer_ratio()"
      ],
      "execution_count": 0,
      "outputs": []
    },
    {
      "cell_type": "markdown",
      "metadata": {
        "id": "yceP7oIs0tic",
        "colab_type": "text"
      },
      "source": [
        "We can use this unpacking syntax any time we iterate over a collection of tuples."
      ]
    },
    {
      "cell_type": "code",
      "metadata": {
        "id": "ckHRrE-b0tic",
        "colab_type": "code",
        "outputId": "a04e30f7-f70a-43b9-9bb7-407d1d95128b",
        "colab": {
          "base_uri": "https://localhost:8080/",
          "height": 34
        }
      },
      "source": [
        "nums = [\n",
        "    ('one', 1, 'I'),\n",
        "    ('two', 2, 'II'),\n",
        "    ('three', 3, 'III'),\n",
        "    ('four', 4, 'IV'),\n",
        "]\n",
        "\n",
        "for word, integer, roman_numeral in nums:\n",
        "    print(integer, word, roman_numeral, sep=' = ', end='; ')"
      ],
      "execution_count": 0,
      "outputs": [
        {
          "output_type": "stream",
          "text": [
            "1 = one = I; 2 = two = II; 3 = three = III; 4 = four = IV; "
          ],
          "name": "stdout"
        }
      ]
    },
    {
      "cell_type": "markdown",
      "metadata": {
        "id": "OqdTuVfu0tie",
        "colab_type": "text"
      },
      "source": [
        "This is equivalent to the following (more tedious) code:"
      ]
    },
    {
      "cell_type": "code",
      "metadata": {
        "id": "ApPAAKJt0tie",
        "colab_type": "code",
        "outputId": "9ebc0b3b-ced8-448a-c508-6d7459c88dc0",
        "colab": {
          "base_uri": "https://localhost:8080/",
          "height": 34
        }
      },
      "source": [
        "for tup in nums:\n",
        "    word = tup[0]\n",
        "    integer = tup[1]\n",
        "    roman_numeral = tup[2]\n",
        "    print(integer, word, roman_numeral, sep=' = ', end='; ')"
      ],
      "execution_count": 0,
      "outputs": [
        {
          "output_type": "stream",
          "text": [
            "1 = one = I; 2 = two = II; 3 = three = III; 4 = four = IV; "
          ],
          "name": "stdout"
        }
      ]
    },
    {
      "cell_type": "markdown",
      "metadata": {
        "id": "cj96geeN0tik",
        "colab_type": "text"
      },
      "source": [
        "## List comprehensions\n",
        "\n",
        "List comprehensions are one of Python's most beloved and unique features. The easiest way to understand them is probably to just look at a few examples:"
      ]
    },
    {
      "cell_type": "code",
      "metadata": {
        "id": "7vuv1Dpn0tim",
        "colab_type": "code",
        "outputId": "f8bc9881-90fe-48b7-9c33-589244949da8",
        "colab": {
          "base_uri": "https://localhost:8080/",
          "height": 34
        }
      },
      "source": [
        "squares = [n**2 for n in range(10)]\n",
        "squares"
      ],
      "execution_count": 0,
      "outputs": [
        {
          "output_type": "execute_result",
          "data": {
            "text/plain": [
              "[0, 1, 4, 9, 16, 25, 36, 49, 64, 81]"
            ]
          },
          "metadata": {
            "tags": []
          },
          "execution_count": 15
        }
      ]
    },
    {
      "cell_type": "markdown",
      "metadata": {
        "id": "a7Rx4CMk0tip",
        "colab_type": "text"
      },
      "source": [
        "Here's how we would do the same thing without a list comprehension:"
      ]
    },
    {
      "cell_type": "code",
      "metadata": {
        "id": "Lp2AAfzf0tiq",
        "colab_type": "code",
        "outputId": "b38b6cdf-5d8d-473d-91ef-226adc2762fc",
        "colab": {
          "base_uri": "https://localhost:8080/",
          "height": 34
        }
      },
      "source": [
        "squares = []\n",
        "for n in range(10):\n",
        "    squares.append(n**2)\n",
        "squares"
      ],
      "execution_count": 0,
      "outputs": [
        {
          "output_type": "execute_result",
          "data": {
            "text/plain": [
              "[0, 1, 4, 9, 16, 25, 36, 49, 64, 81]"
            ]
          },
          "metadata": {
            "tags": []
          },
          "execution_count": 16
        }
      ]
    },
    {
      "cell_type": "code",
      "metadata": {
        "id": "Wgcrqj3x0ti5",
        "colab_type": "code",
        "colab": {}
      },
      "source": [
        "def count_negatives(nums):\n",
        "    \"\"\"Return the number of negative numbers in the given list.\n",
        "    \n",
        "    >>> count_negatives([5, -1, -2, 0, 3])\n",
        "    2\n",
        "    \"\"\"\n",
        "    n_negative = 0\n",
        "    for num in nums:\n",
        "        if num < 0:\n",
        "            n_negative = n_negative + 1\n",
        "    return n_negative"
      ],
      "execution_count": 0,
      "outputs": []
    },
    {
      "cell_type": "markdown",
      "metadata": {
        "id": "0-3AIa2v0ti8",
        "colab_type": "text"
      },
      "source": [
        "Here's a solution using a list comprehension:"
      ]
    },
    {
      "cell_type": "code",
      "metadata": {
        "id": "P8LoansJ0ti9",
        "colab_type": "code",
        "colab": {}
      },
      "source": [
        "def count_negatives(nums):\n",
        "    return len([num for num in nums if num < 0])"
      ],
      "execution_count": 0,
      "outputs": []
    },
    {
      "cell_type": "markdown",
      "metadata": {
        "id": "QnJOmbyY0tjA",
        "colab_type": "text"
      },
      "source": [
        "Much better, right?\n",
        "\n",
        "Well if all we care about is minimizing the length of our code, this third solution is better still!"
      ]
    },
    {
      "cell_type": "code",
      "metadata": {
        "id": "3LXwXEut0tjB",
        "colab_type": "code",
        "colab": {}
      },
      "source": [
        "def count_negatives(nums):\n",
        "    # Reminder: in the \"booleans and conditionals\" exercises, we learned about a quirk of \n",
        "    # Python where it calculates something like True + True + False + True to be equal to 3.\n",
        "    return sum([num < 0 for num in nums])"
      ],
      "execution_count": 0,
      "outputs": []
    }
  ]
}